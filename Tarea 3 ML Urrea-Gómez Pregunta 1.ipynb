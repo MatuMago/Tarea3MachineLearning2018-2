{
 "cells": [
  {
   "cell_type": "markdown",
   "metadata": {},
   "source": [
    "<img src=\"http://www.exalumnos.usm.cl/wp-content/uploads/2015/06/Isotipo-Negro.gif\" title=\"Title text\" width=\"20%\" height=\"20%\" />\n",
    "\n",
    "\n",
    "<hr style=\"height:2px;border:none\"/>\n",
    "<h1 align='center'> INF-393 Máquinas de Aprendizaje II-2018 </h1>\n",
    "\n",
    "<H3 align='center'> Fernanda Urrea, ROL: 201551522-0 </H3>\n",
    "<H3 align='center'> Matías Gómez, ROL: 201460501-3 </H3>\n",
    "\n",
    "<hr style=\"height:2px;border:none\"/>"
   ]
  },
  {
   "cell_type": "markdown",
   "metadata": {},
   "source": [
    "## 1. Calidad de un vino\n",
    "---\n",
    "\n",
    "Existen muchas variedades de vino existentes debido a los distintos gustos que tienen las personas. Del gusto se desprende la calidad que una persona le podría asignar a un vino, el cual proviene del gusto de la persona en particular, o bien, a la gran cantidad de quı́micos y procesos que se aplican a la producción de vino. Para el área de negocios, el estimar cuál es la calidad de un vino en base a la apreciación del público es una tarea bastante difı́cil.  \n",
    "Para esta actividad se trabajará con dos *datasets* asociados a las variantes tinto y blanco del vino portugués\n",
    "”Vinho Verde”[[1]](#refs). Debido a temas privados solo se cuenta con las caracterı́stcas fisioquı́micas asociadas a un\n",
    "vino en particular, los cuales corresponden a 11 atributos numéricos descritos en el siguiente __[link](http://archive.ics.uci.edu/ml/machine-learning-databases/wine-quality/winequality.names)__.\n",
    "\n",
    "Este problema puede ser abordado como clasificación de 11 clases o de regresión, ya que el atributo a estimar,\n",
    "*quality*, tiene un dominio como valor entero 0 y 10. La forma de resolverlo será a través de **ensamblados**.\n",
    "\n",
    "<img src=\"https://uploads.toptal.io/blog/image/92064/toptal-blog-image-1454584112948-fc1d35939aa1886bf30c816b3ac20e21.jpg\" title=\"Title text\" width=\"20%\"  />"
   ]
  },
  {
   "cell_type": "markdown",
   "metadata": {},
   "source": [
    "#### a) Carge los dos dataset en un único dataframe de pandas, además de agregar una columna indicando si es vino tinto o blanco. Describa el dataset a trabajar."
   ]
  },
  {
   "cell_type": "code",
   "execution_count": 7,
   "metadata": {},
   "outputs": [],
   "source": [
    "import pandas as pd\n",
    "df_red = pd.read_csv(\"winequality-red.csv\",sep=\";\")\n",
    "df_white = pd.read_csv(\"winequality-white.csv\",sep=\";\")"
   ]
  },
  {
   "cell_type": "code",
   "execution_count": 8,
   "metadata": {},
   "outputs": [],
   "source": [
    "df_red['tipo'] = 1\n",
    "df_white['tipo'] = 0"
   ]
  },
  {
   "cell_type": "code",
   "execution_count": 9,
   "metadata": {},
   "outputs": [],
   "source": [
    "df = pd.concat([df_red,df_white], axis=0)"
   ]
  },
  {
   "cell_type": "code",
   "execution_count": 12,
   "metadata": {},
   "outputs": [
    {
     "name": "stdout",
     "output_type": "stream",
     "text": [
      "0    4898\n",
      "1    1599\n",
      "Name: tipo, dtype: int64\n"
     ]
    }
   ],
   "source": [
    "print(df['tipo'].value_counts())"
   ]
  },
  {
   "cell_type": "code",
   "execution_count": 11,
   "metadata": {},
   "outputs": [
    {
     "name": "stdout",
     "output_type": "stream",
     "text": [
      "<class 'pandas.core.frame.DataFrame'>\n",
      "Int64Index: 6497 entries, 0 to 4897\n",
      "Data columns (total 13 columns):\n",
      "fixed acidity           6497 non-null float64\n",
      "volatile acidity        6497 non-null float64\n",
      "citric acid             6497 non-null float64\n",
      "residual sugar          6497 non-null float64\n",
      "chlorides               6497 non-null float64\n",
      "free sulfur dioxide     6497 non-null float64\n",
      "total sulfur dioxide    6497 non-null float64\n",
      "density                 6497 non-null float64\n",
      "pH                      6497 non-null float64\n",
      "sulphates               6497 non-null float64\n",
      "alcohol                 6497 non-null float64\n",
      "quality                 6497 non-null int64\n",
      "tipo                    6497 non-null int64\n",
      "dtypes: float64(11), int64(2)\n",
      "memory usage: 710.6 KB\n"
     ]
    }
   ],
   "source": [
    "df.info()"
   ]
  },
  {
   "cell_type": "code",
   "execution_count": 10,
   "metadata": {},
   "outputs": [
    {
     "data": {
      "text/html": [
       "<div>\n",
       "<style scoped>\n",
       "    .dataframe tbody tr th:only-of-type {\n",
       "        vertical-align: middle;\n",
       "    }\n",
       "\n",
       "    .dataframe tbody tr th {\n",
       "        vertical-align: top;\n",
       "    }\n",
       "\n",
       "    .dataframe thead th {\n",
       "        text-align: right;\n",
       "    }\n",
       "</style>\n",
       "<table border=\"1\" class=\"dataframe\">\n",
       "  <thead>\n",
       "    <tr style=\"text-align: right;\">\n",
       "      <th></th>\n",
       "      <th>fixed acidity</th>\n",
       "      <th>volatile acidity</th>\n",
       "      <th>citric acid</th>\n",
       "      <th>residual sugar</th>\n",
       "      <th>chlorides</th>\n",
       "      <th>free sulfur dioxide</th>\n",
       "      <th>total sulfur dioxide</th>\n",
       "      <th>density</th>\n",
       "      <th>pH</th>\n",
       "      <th>sulphates</th>\n",
       "      <th>alcohol</th>\n",
       "      <th>quality</th>\n",
       "      <th>tipo</th>\n",
       "    </tr>\n",
       "  </thead>\n",
       "  <tbody>\n",
       "    <tr>\n",
       "      <th>0</th>\n",
       "      <td>7.4</td>\n",
       "      <td>0.70</td>\n",
       "      <td>0.00</td>\n",
       "      <td>1.9</td>\n",
       "      <td>0.076</td>\n",
       "      <td>11.0</td>\n",
       "      <td>34.0</td>\n",
       "      <td>0.9978</td>\n",
       "      <td>3.51</td>\n",
       "      <td>0.56</td>\n",
       "      <td>9.4</td>\n",
       "      <td>5</td>\n",
       "      <td>1</td>\n",
       "    </tr>\n",
       "    <tr>\n",
       "      <th>1</th>\n",
       "      <td>7.8</td>\n",
       "      <td>0.88</td>\n",
       "      <td>0.00</td>\n",
       "      <td>2.6</td>\n",
       "      <td>0.098</td>\n",
       "      <td>25.0</td>\n",
       "      <td>67.0</td>\n",
       "      <td>0.9968</td>\n",
       "      <td>3.20</td>\n",
       "      <td>0.68</td>\n",
       "      <td>9.8</td>\n",
       "      <td>5</td>\n",
       "      <td>1</td>\n",
       "    </tr>\n",
       "    <tr>\n",
       "      <th>2</th>\n",
       "      <td>7.8</td>\n",
       "      <td>0.76</td>\n",
       "      <td>0.04</td>\n",
       "      <td>2.3</td>\n",
       "      <td>0.092</td>\n",
       "      <td>15.0</td>\n",
       "      <td>54.0</td>\n",
       "      <td>0.9970</td>\n",
       "      <td>3.26</td>\n",
       "      <td>0.65</td>\n",
       "      <td>9.8</td>\n",
       "      <td>5</td>\n",
       "      <td>1</td>\n",
       "    </tr>\n",
       "    <tr>\n",
       "      <th>3</th>\n",
       "      <td>11.2</td>\n",
       "      <td>0.28</td>\n",
       "      <td>0.56</td>\n",
       "      <td>1.9</td>\n",
       "      <td>0.075</td>\n",
       "      <td>17.0</td>\n",
       "      <td>60.0</td>\n",
       "      <td>0.9980</td>\n",
       "      <td>3.16</td>\n",
       "      <td>0.58</td>\n",
       "      <td>9.8</td>\n",
       "      <td>6</td>\n",
       "      <td>1</td>\n",
       "    </tr>\n",
       "    <tr>\n",
       "      <th>4</th>\n",
       "      <td>7.4</td>\n",
       "      <td>0.70</td>\n",
       "      <td>0.00</td>\n",
       "      <td>1.9</td>\n",
       "      <td>0.076</td>\n",
       "      <td>11.0</td>\n",
       "      <td>34.0</td>\n",
       "      <td>0.9978</td>\n",
       "      <td>3.51</td>\n",
       "      <td>0.56</td>\n",
       "      <td>9.4</td>\n",
       "      <td>5</td>\n",
       "      <td>1</td>\n",
       "    </tr>\n",
       "  </tbody>\n",
       "</table>\n",
       "</div>"
      ],
      "text/plain": [
       "   fixed acidity  volatile acidity  citric acid  residual sugar  chlorides  \\\n",
       "0            7.4              0.70         0.00             1.9      0.076   \n",
       "1            7.8              0.88         0.00             2.6      0.098   \n",
       "2            7.8              0.76         0.04             2.3      0.092   \n",
       "3           11.2              0.28         0.56             1.9      0.075   \n",
       "4            7.4              0.70         0.00             1.9      0.076   \n",
       "\n",
       "   free sulfur dioxide  total sulfur dioxide  density    pH  sulphates  \\\n",
       "0                 11.0                  34.0   0.9978  3.51       0.56   \n",
       "1                 25.0                  67.0   0.9968  3.20       0.68   \n",
       "2                 15.0                  54.0   0.9970  3.26       0.65   \n",
       "3                 17.0                  60.0   0.9980  3.16       0.58   \n",
       "4                 11.0                  34.0   0.9978  3.51       0.56   \n",
       "\n",
       "   alcohol  quality  tipo  \n",
       "0      9.4        5     1  \n",
       "1      9.8        5     1  \n",
       "2      9.8        5     1  \n",
       "3      9.8        6     1  \n",
       "4      9.4        5     1  "
      ]
     },
     "execution_count": 10,
     "metadata": {},
     "output_type": "execute_result"
    }
   ],
   "source": [
    "df.head()"
   ]
  },
  {
   "cell_type": "markdown",
   "metadata": {},
   "source": [
    "El dataset presenta variables de input de tipo int basadas en caracteristicas fisioquimicas de las pruebas hechas en cada vino y se detallan a continuación:  \n",
    "   1 - fixed acidity  \n",
    "   2 - volatile acidity  \n",
    "   3 - citric acid  \n",
    "   4 - residual sugar  \n",
    "   5 - chlorides  \n",
    "   6 - free sulfur dioxide  \n",
    "   7 - total sulfur dioxide  \n",
    "   8 - density  \n",
    "   9 - pH  \n",
    "   10 - sulphates  \n",
    "   11 - alcohol  \n",
    "   12 - quality (score between 0 and 10)  \n",
    "   13 - tipo  \n"
   ]
  },
  {
   "cell_type": "markdown",
   "metadata": {},
   "source": [
    "#### b) Aborde este problema como si fuera de clasificación con multiples clases para predecir el valor de calidad de un vino, es decir, utilice las distintas caracterı́sticas fisioquı́micas presentes en los datos para estimar la etiqueta ¿Cuántas clases son y cuántos ejemplos hay por clase? ¿Qué sucede con predecir si un vino tiene calidad mínima (0) o máxima(10)? Además para el propósito académico de esta actividad cree un conjunto de pruebas (20%)  para evaluar la generalización final del modelo y otro de validación (20%) si estima conveniente. "
   ]
  },
  {
   "cell_type": "code",
   "execution_count": 19,
   "metadata": {},
   "outputs": [
    {
     "name": "stdout",
     "output_type": "stream",
     "text": [
      "6    2836\n",
      "5    2138\n",
      "7    1079\n",
      "4     216\n",
      "8     193\n",
      "3      30\n",
      "9       5\n",
      "Name: quality, dtype: int64\n"
     ]
    }
   ],
   "source": [
    "y = df[\"quality\"].values #or codify\n",
    "print(df['quality'].value_counts())"
   ]
  },
  {
   "cell_type": "markdown",
   "metadata": {},
   "source": [
    "<table>\n",
    "    <tr>\n",
    "        <td>\n",
    "\\begin{eqnarray}\n",
    "&{\\textbf{Calidad}}\\\\ & 3 \\\\ & 4\\\\ & 5\\\\ & 6\\\\ & 7\\\\ & 8\\\\ & 9\\\\\n",
    "\\end{eqnarray}\n",
    "        </td>\n",
    "        <td>\n",
    "\\begin{eqnarray}\n",
    "&{\\textbf{Cantidad de ejemplos}}\\\\& 30 \\\\ & 216\\\\ & 2138\\\\ & 2836\\\\ & 1079\\\\ & 193\\\\ & 5\\\\\n",
    "\\end{eqnarray}\n",
    "        </td>\n",
    "\n",
    "\n",
    "    </tr>\n",
    "</table>"
   ]
  },
  {
   "cell_type": "markdown",
   "metadata": {},
   "source": [
    "De las 11 calidades posibles, solo hay 7 presentes en el dataset (3 a 9).  \n",
    "Como en el dataset no hay vinos de calidad mínima no máxima, cualquier modelo de aprendizaje que se implemente no calsificará a un vino con calidad mínima (0) o máxima (10).  "
   ]
  },
  {
   "cell_type": "code",
   "execution_count": 21,
   "metadata": {},
   "outputs": [],
   "source": [
    "df.drop(\"quality\",axis=1,inplace=True)\n",
    "X = df.values"
   ]
  },
  {
   "cell_type": "code",
   "execution_count": 23,
   "metadata": {},
   "outputs": [],
   "source": [
    "from sklearn.model_selection import train_test_split\n",
    "X_train, X_test, y_train, y_test = train_test_split(X, y, test_size=0.2, random_state=1)\n",
    "X_train, X_val, y_train, y_val = train_test_split(X_train, y_train, test_size=0.25, random_state=1)"
   ]
  },
  {
   "cell_type": "code",
   "execution_count": 27,
   "metadata": {},
   "outputs": [
    {
     "name": "stdout",
     "output_type": "stream",
     "text": [
      "Conjunto de entrenamiento:  (3897, 12)\n",
      "Conjunto de pruebas:  (1300, 12)\n",
      "Conjunto de validacion:  (1300, 12)\n"
     ]
    }
   ],
   "source": [
    "print(\"Conjunto de entrenamiento: \", X_train.shape)\n",
    "print(\"Conjunto de pruebas: \", X_test.shape)\n",
    "print(\"Conjunto de validacion: \", X_val.shape)"
   ]
  },
  {
   "cell_type": "code",
   "execution_count": 31,
   "metadata": {},
   "outputs": [
    {
     "name": "stdout",
     "output_type": "stream",
     "text": [
      "[6.7000e+00 3.5000e-01 4.8000e-01 8.8000e+00 5.6000e-02 3.5000e+01\n",
      " 1.6700e+02 9.9628e-01 3.0400e+00 4.7000e-01 9.4000e+00 0.0000e+00] \n",
      "\n",
      " [7.600e+00 3.200e-01 5.800e-01 1.675e+01 5.000e-02 4.300e+01 1.630e+02\n",
      " 9.999e-01 3.150e+00 5.400e-01 9.200e+00 0.000e+00] \n",
      "\n",
      " [6.000e+00 2.600e-01 5.000e-01 2.200e+00 4.800e-02 5.900e+01 1.530e+02\n",
      " 9.928e-01 3.080e+00 6.100e-01 9.800e+00 0.000e+00]\n"
     ]
    }
   ],
   "source": [
    "print(X_train[0],\"\\n\\n\",X_test[0],\"\\n\\n\",X_val[0])"
   ]
  },
  {
   "cell_type": "markdown",
   "metadata": {},
   "source": [
    "#### c) Entrene un solo Árbol de Clasificación de múltiples niveles para resolver el problema. Defina un Árbol **no regularizado** (como el que no tiene límites en su profundidad) y otro Árbol **regularizado** (variando los hiper-parámetros que prefiera, por ejemplo, los más comunes como la profundidad, el número mínimo de datos para realizar *split* o el número mínimo de datos en cada hoja), recuerde que las **decisiones** no pueden ser basadas mirando el conjunto de pruebas. Debido al desbalanceo que se produce en las clases mida la métrica F1-score [[2]](#refs) sobre el conjunto de entrenamiento y de pruebas.\n"
   ]
  },
  {
   "cell_type": "code",
   "execution_count": 109,
   "metadata": {},
   "outputs": [],
   "source": [
    "from sklearn.metrics import f1_score\n",
    "import numpy as np"
   ]
  },
  {
   "cell_type": "markdown",
   "metadata": {},
   "source": [
    "La métrica F1-score puede ser interpretada como un promedio ponderado de la precisión y la exhaustividad, el mejor valor de la métrica es 1 y el peor valor es 0.  Además, la contribución relativa de la precisión y la exhaustividad a la métrica F1 score es la misma.  "
   ]
  },
  {
   "cell_type": "code",
   "execution_count": 113,
   "metadata": {},
   "outputs": [
    {
     "name": "stdout",
     "output_type": "stream",
     "text": [
      "Train Accuracy:  1.0\n",
      "Val Accuracy:  0.5776923076923077\n",
      "Test Accuracy:  0.5715384615384616\n",
      "Train F1-score:  1.0\n",
      "Val F1-score:  0.5747509671871751\n",
      "Test F1-score:  0.5692627469800011\n"
     ]
    }
   ],
   "source": [
    "from sklearn.tree import DecisionTreeClassifier as Tree\n",
    "model= Tree()\n",
    "model.fit(X_train,y_train)#Árbol no regularizado\n",
    "print(\"Train Accuracy: \",model.score(X_train,y_train))\n",
    "print(\"Val Accuracy: \",model.score(X_val,y_val))\n",
    "print(\"Test Accuracy: \",model.score(X_test,y_test))\n",
    "print(\"Train F1-score: \",f1_score(y_train,model.predict(X_train), average='weighted',  labels=np.unique(model.predict(X_train))))\n",
    "print(\"Val F1-score: \",f1_score(y_val,model.predict(X_val), average='weighted', labels=np.unique(model.predict(X_val))))\n",
    "print(\"Test F1-score: \", f1_score(y_test, model.predict(X_test), average='weighted',labels=np.unique(model.predict(X_test))))"
   ]
  },
  {
   "cell_type": "markdown",
   "metadata": {},
   "source": [
    "Se creó el árbol de clasificación no regularizado, y se midió la accuracy y el f1-score, mostrando un claro ejemplo de overfitting, pues el error en el conjunto de entrenamiento es nulo.  "
   ]
  },
  {
   "cell_type": "markdown",
   "metadata": {},
   "source": [
    "Ahora, se crea un arbol regularizado, imponiendo una máxima altura de 12 niveles y una mínima cantidad de 10 ejemplos en cada hoja.  "
   ]
  },
  {
   "cell_type": "code",
   "execution_count": 156,
   "metadata": {},
   "outputs": [
    {
     "name": "stdout",
     "output_type": "stream",
     "text": [
      "Train Accuracy:  0.6966897613548884\n",
      "Val Accuracy:  0.5146153846153846\n",
      "Test Accuracy:  0.5576923076923077\n",
      "Train F1-score:  0.6871997175378916\n",
      "Val F1-score:  0.5050240525353648\n",
      "Test F1-score:  0.5482925165754408\n"
     ]
    }
   ],
   "source": [
    "model= Tree()\n",
    "model.set_params(max_depth=12, criterion='gini',splitter='best',min_samples_leaf=10)\n",
    "model.fit(X_train,y_train)#Árbol regularizado\n",
    "print(\"Train Accuracy: \",model.score(X_train,y_train))\n",
    "print(\"Val Accuracy: \",model.score(X_val,y_val))\n",
    "print(\"Test Accuracy: \",model.score(X_test,y_test))\n",
    "print(\"Train F1-score: \",f1_score(y_train,model.predict(X_train), average='weighted',  labels=np.unique(model.predict(X_train))))\n",
    "print(\"Val F1-score: \",f1_score(y_val,model.predict(X_val), average='weighted', labels=np.unique(model.predict(X_val))))\n",
    "print(\"Test F1-score: \", f1_score(y_test, model.predict(X_test), average='weighted',labels=np.unique(model.predict(X_test))))"
   ]
  },
  {
   "cell_type": "markdown",
   "metadata": {},
   "source": [
    "#### d) Entrene un ensamblado de árboles de múltiples niveles, mediante la técnica de **Bagging**, compare el Árbol **no regularizado** con el **regularizado** (*seteando los hiper-parámetros en base a lo experimentado anteriormente en c)*) ¿Qué debería suceder? ¿Se visualiza *overfitting*? Varíe la cantidad de árboles de decisión utilizados en el ensamblado (*n estimators*), realice un gráfico resumen del F1-score de entrenamiento y de pruebas en función de este hiper-parámetro."
   ]
  },
  {
   "cell_type": "code",
   "execution_count": 118,
   "metadata": {},
   "outputs": [],
   "source": [
    "from sklearn.ensemble import BaggingClassifier"
   ]
  },
  {
   "cell_type": "markdown",
   "metadata": {},
   "source": [
    "Veamos primero el árbol no regularizado, para los casos n = 1, 2, 3, 4.  "
   ]
  },
  {
   "cell_type": "code",
   "execution_count": 272,
   "metadata": {},
   "outputs": [
    {
     "name": "stdout",
     "output_type": "stream",
     "text": [
      "Train F1-score:  0.8285382913777093\n",
      "Val F1-score:  0.5302575530267837\n",
      "Test F1-score:  0.5156827617826207\n"
     ]
    }
   ],
   "source": [
    "model = BaggingClassifier(base_estimator=Tree(), n_estimators=1, n_jobs=-1)\n",
    "model.fit(X_train,y_train)\n",
    "y_pred = model.predict(X_train)\n",
    "print(\"Train F1-score: \",f1_score(y_train,model.predict(X_train), average='weighted',  labels=np.unique(model.predict(X_train))))\n",
    "print(\"Val F1-score: \",f1_score(y_val,model.predict(X_val), average='weighted', labels=np.unique(model.predict(X_val))))\n",
    "print(\"Test F1-score: \", f1_score(y_test, model.predict(X_test), average='weighted',labels=np.unique(model.predict(X_test))))"
   ]
  },
  {
   "cell_type": "code",
   "execution_count": 120,
   "metadata": {},
   "outputs": [
    {
     "name": "stdout",
     "output_type": "stream",
     "text": [
      "Train Accuracy:  0.8343148846081402\n",
      "Val Accuracy:  0.513896541032835\n",
      "Test Accuracy:  0.518489154066509\n"
     ]
    }
   ],
   "source": [
    "model = BaggingClassifier(base_estimator=Tree(), n_estimators=2, n_jobs=-1)\n",
    "model.fit(X_train,y_train)\n",
    "y_pred = model.predict(X_train)\n",
    "print(\"Train F1-score: \",f1_score(y_train,model.predict(X_train), average='weighted',  labels=np.unique(model.predict(X_train))))\n",
    "print(\"Val F1-score: \",f1_score(y_val,model.predict(X_val), average='weighted', labels=np.unique(model.predict(X_val))))\n",
    "print(\"Test F1-score: \", f1_score(y_test, model.predict(X_test), average='weighted',labels=np.unique(model.predict(X_test))))"
   ]
  },
  {
   "cell_type": "code",
   "execution_count": 271,
   "metadata": {},
   "outputs": [
    {
     "name": "stdout",
     "output_type": "stream",
     "text": [
      "Train F1-score:  0.9124441826291637\n",
      "Val F1-score:  0.5582512888792391\n",
      "Test F1-score:  0.5519469636647171\n"
     ]
    }
   ],
   "source": [
    "model = BaggingClassifier(base_estimator=Tree(), n_estimators=3, n_jobs=-1)\n",
    "model.fit(X_train,y_train)\n",
    "y_pred = model.predict(X_train)\n",
    "print(\"Train F1-score: \",f1_score(y_train,model.predict(X_train), average='weighted',  labels=np.unique(model.predict(X_train))))\n",
    "print(\"Val F1-score: \",f1_score(y_val,model.predict(X_val), average='weighted', labels=np.unique(model.predict(X_val))))\n",
    "print(\"Test F1-score: \", f1_score(y_test, model.predict(X_test), average='weighted',labels=np.unique(model.predict(X_test))))"
   ]
  },
  {
   "cell_type": "code",
   "execution_count": 270,
   "metadata": {},
   "outputs": [
    {
     "name": "stdout",
     "output_type": "stream",
     "text": [
      "Train F1-score:  0.9247304658795948\n",
      "Val F1-score:  0.5806378888980404\n",
      "Test F1-score:  0.5555576410134777\n"
     ]
    }
   ],
   "source": [
    "model = BaggingClassifier(base_estimator=Tree(), n_estimators=4, n_jobs=-1)\n",
    "model.fit(X_train,y_train)\n",
    "y_pred = model.predict(X_train)\n",
    "print(\"Train F1-score: \",f1_score(y_train,model.predict(X_train), average='weighted',  labels=np.unique(model.predict(X_train))))\n",
    "print(\"Val F1-score: \",f1_score(y_val,model.predict(X_val), average='weighted', labels=np.unique(model.predict(X_val))))\n",
    "print(\"Test F1-score: \", f1_score(y_test, model.predict(X_test), average='weighted',labels=np.unique(model.predict(X_test))))"
   ]
  },
  {
   "cell_type": "markdown",
   "metadata": {},
   "source": [
    "Ahora, se graficará el F1-score en función del parámetro n, para los distintos conjuntos.  "
   ]
  },
  {
   "cell_type": "code",
   "execution_count": 142,
   "metadata": {},
   "outputs": [],
   "source": [
    "list_Train=[];\n",
    "list_Val=[];\n",
    "list_Test=[];\n",
    "for i in range(10):\n",
    "    model = BaggingClassifier(base_estimator=Tree(), n_estimators=i+1, n_jobs=-1)\n",
    "    model.fit(X_train,y_train)\n",
    "    list_Train.append(f1_score(y_train,model.predict(X_train), average='weighted',  labels=np.unique(model.predict(X_train))));\n",
    "    list_Val.append(f1_score(y_val,model.predict(X_val), average='weighted', labels=np.unique(model.predict(X_val))));\n",
    "    list_Test.append(f1_score(y_test, model.predict(X_test), average='weighted',labels=np.unique(model.predict(X_test))));"
   ]
  },
  {
   "cell_type": "code",
   "execution_count": 127,
   "metadata": {},
   "outputs": [],
   "source": [
    "import matplotlib.pyplot as plt"
   ]
  },
  {
   "cell_type": "code",
   "execution_count": 138,
   "metadata": {},
   "outputs": [],
   "source": [
    "import matplotlib\n",
    "import matplotlib.pyplot as plt\n",
    "import numpy as np"
   ]
  },
  {
   "cell_type": "code",
   "execution_count": 162,
   "metadata": {},
   "outputs": [
    {
     "data": {
      "image/png": "[encoded data removed]",
      "text/plain": [
       "<Figure size 432x288 with 1 Axes>"
      ]
     },
     "metadata": {},
     "output_type": "display_data"
    }
   ],
   "source": [
    "fig, ax = plt.subplots()\n",
    "ax.plot([1,2,3,4,5,6,7,8,9,10],list_Train, label=\"Conjunto de entrenamiento\");\n",
    "ax.plot([1,2,3,4,5,6,7,8,9,10],list_Val, label=\"Conjunto de validación\");\n",
    "ax.plot([1,2,3,4,5,6,7,8,9,10],list_Test, label=\"Conjunto de prueba\");\n",
    "\n",
    "ax.legend(bbox_to_anchor=(1.05, 1), loc='upper left', borderaxespad=0.)\n",
    "ax.set(xlabel='Cantidad de árboles', ylabel='F1-score',\n",
    "       title='F1-score en BaggingClassifier árbol no regularizado')\n",
    "ax.grid()\n",
    "plt.show()"
   ]
  },
  {
   "cell_type": "markdown",
   "metadata": {},
   "source": [
    "Ahora replicaremos el proceso anterior para el árbol regularizado. Veremos los casos correspondientes a n = 1, 2, 3, 4"
   ]
  },
  {
   "cell_type": "code",
   "execution_count": 269,
   "metadata": {},
   "outputs": [
    {
     "name": "stdout",
     "output_type": "stream",
     "text": [
      "Train F1-score:  0.6203486005391072\n",
      "Val F1-score:  0.4901310087532866\n",
      "Test F1-score:  0.5014312039213853\n"
     ]
    }
   ],
   "source": [
    "model = BaggingClassifier(base_estimator=Tree(max_depth=12, criterion='gini',splitter='best',min_samples_leaf=10), n_estimators=1, n_jobs=-1)\n",
    "model.fit(X_train,y_train)\n",
    "y_pred = model.predict(X_train)\n",
    "print(\"Train F1-score: \",f1_score(y_train,model.predict(X_train), average='weighted',  labels=np.unique(model.predict(X_train))))\n",
    "print(\"Val F1-score: \",f1_score(y_val,model.predict(X_val), average='weighted', labels=np.unique(model.predict(X_val))))\n",
    "print(\"Test F1-score: \", f1_score(y_test, model.predict(X_test), average='weighted',labels=np.unique(model.predict(X_test))))"
   ]
  },
  {
   "cell_type": "code",
   "execution_count": 268,
   "metadata": {},
   "outputs": [
    {
     "name": "stdout",
     "output_type": "stream",
     "text": [
      "Train F1-score:  0.6766676743743142\n",
      "Val F1-score:  0.5568013851934626\n",
      "Test F1-score:  0.5521797078568939\n"
     ]
    }
   ],
   "source": [
    "model = BaggingClassifier(base_estimator=Tree(max_depth=12, criterion='gini',splitter='best',min_samples_leaf=10), n_estimators=2, n_jobs=-1)\n",
    "model.fit(X_train,y_train)\n",
    "y_pred = model.predict(X_train)\n",
    "print(\"Train F1-score: \",f1_score(y_train,model.predict(X_train), average='weighted',  labels=np.unique(model.predict(X_train))))\n",
    "print(\"Val F1-score: \",f1_score(y_val,model.predict(X_val), average='weighted', labels=np.unique(model.predict(X_val))))\n",
    "print(\"Test F1-score: \", f1_score(y_test, model.predict(X_test), average='weighted',labels=np.unique(model.predict(X_test))))"
   ]
  },
  {
   "cell_type": "code",
   "execution_count": 267,
   "metadata": {},
   "outputs": [
    {
     "name": "stdout",
     "output_type": "stream",
     "text": [
      "Train F1-score:  0.6792979995112494\n",
      "Val F1-score:  0.5388462103693319\n",
      "Test F1-score:  0.5562065055904958\n"
     ]
    }
   ],
   "source": [
    "model = BaggingClassifier(base_estimator=Tree(max_depth=12, criterion='gini',splitter='best',min_samples_leaf=10), n_estimators=3, n_jobs=-1)\n",
    "model.fit(X_train,y_train)\n",
    "y_pred = model.predict(X_train)\n",
    "print(\"Train F1-score: \",f1_score(y_train,model.predict(X_train), average='weighted',  labels=np.unique(model.predict(X_train))))\n",
    "print(\"Val F1-score: \",f1_score(y_val,model.predict(X_val), average='weighted', labels=np.unique(model.predict(X_val))))\n",
    "print(\"Test F1-score: \", f1_score(y_test, model.predict(X_test), average='weighted',labels=np.unique(model.predict(X_test))))"
   ]
  },
  {
   "cell_type": "code",
   "execution_count": 266,
   "metadata": {},
   "outputs": [
    {
     "name": "stdout",
     "output_type": "stream",
     "text": [
      "Train F1-score:  0.6926704794895909\n",
      "Val F1-score:  0.537232415629999\n",
      "Test F1-score:  0.5820834849144804\n"
     ]
    }
   ],
   "source": [
    "model = BaggingClassifier(base_estimator=Tree(max_depth=12, criterion='gini',splitter='best',min_samples_leaf=10), n_estimators=4, n_jobs=-1)\n",
    "model.fit(X_train,y_train)\n",
    "y_pred = model.predict(X_train)\n",
    "print(\"Train F1-score: \",f1_score(y_train,model.predict(X_train), average='weighted',  labels=np.unique(model.predict(X_train))))\n",
    "print(\"Val F1-score: \",f1_score(y_val,model.predict(X_val), average='weighted', labels=np.unique(model.predict(X_val))))\n",
    "print(\"Test F1-score: \", f1_score(y_test, model.predict(X_test), average='weighted',labels=np.unique(model.predict(X_test))))"
   ]
  },
  {
   "cell_type": "markdown",
   "metadata": {},
   "source": [
    "Se procede a graficar el F1-score en función del parámetro n, para los distintos conjuntos en el árbol regularizado.  "
   ]
  },
  {
   "cell_type": "code",
   "execution_count": 161,
   "metadata": {},
   "outputs": [],
   "source": [
    "list_Train1=[];\n",
    "list_Val1=[];\n",
    "list_Test1=[];\n",
    "for i in range(10):\n",
    "    model = BaggingClassifier(base_estimator=Tree(max_depth=12, criterion='gini',splitter='best',min_samples_leaf=10), n_estimators=i+1, n_jobs=-1)\n",
    "    model.fit(X_train,y_train)\n",
    "    list_Train1.append(f1_score(y_train,model.predict(X_train), average='weighted',  labels=np.unique(model.predict(X_train))));\n",
    "    list_Val1.append(f1_score(y_val,model.predict(X_val), average='weighted', labels=np.unique(model.predict(X_val))));\n",
    "    list_Test1.append(f1_score(y_test, model.predict(X_test), average='weighted',labels=np.unique(model.predict(X_test))));"
   ]
  },
  {
   "cell_type": "code",
   "execution_count": 163,
   "metadata": {},
   "outputs": [
    {
     "data": {
      "image/png": "[encoded data removed]",
      "text/plain": [
       "<Figure size 432x288 with 1 Axes>"
      ]
     },
     "metadata": {},
     "output_type": "display_data"
    }
   ],
   "source": [
    "fig, ax = plt.subplots()\n",
    "ax.plot([1,2,3,4,5,6,7,8,9,10],list_Train1, label=\"Conjunto de entrenamiento\");\n",
    "ax.plot([1,2,3,4,5,6,7,8,9,10],list_Val1, label=\"Conjunto de validación\");\n",
    "ax.plot([1,2,3,4,5,6,7,8,9,10],list_Test1, label=\"Conjunto de prueba\");\n",
    "\n",
    "ax.legend(bbox_to_anchor=(1.05, 1), loc='upper left', borderaxespad=0.)\n",
    "ax.set(xlabel='Cantidad de árboles', ylabel='F1-score',\n",
    "       title='F1-score en BaggingClassifier árbol regularizado')\n",
    "ax.grid()\n",
    "plt.show()"
   ]
  },
  {
   "cell_type": "markdown",
   "metadata": {},
   "source": [
    "En conclusión, como era de esperarse, el árbol no regularizado inicialmente (n=1), bajó el overfitting, sin embargo a medida que aumenta la cantidad de árboles, el F1-score tiene una tendencia al alza llegado a ser cercano a 1, y por ende, el modelo tiende a overfitting.  \n",
    "En el caso del árbol regularizado, se observa una tendencia similar. Sin embargo, como el árbol regularizado tiene una accuracy más baja en todos los conjuntos, este comportamiento es el mismo pero para valores de F1-score más bajos, por lo que quizas se presente overfitting para casos con n mayor a 10 si se sigue la tendencia.  "
   ]
  },
  {
   "cell_type": "markdown",
   "metadata": {},
   "source": [
    "#### e) Entrene un ensamblado de árboles de múltiples niveles, mediante la técnica de **AdaBoost**, compare el Árbol **no regularizado** con el **regularizado** (*seteando los hiper-parámetros en base a lo experimentado anteriormente en c)* ¿Se visualiza *overfitting*? ¿Qué técnica se utiliza, *re-muestrear* o *pesar* ejemplos? ¿Qué le parece más sensato?. Varíe la cantidad de árboles de decisión utilizados en el ensamblado (*n estimators*), realice un gráfico resumen del F1-score de entrenamiento y de pruebas en función de este hiper-parámetro. Compare y analice con la técnica utilizada en d)."
   ]
  },
  {
   "cell_type": "markdown",
   "metadata": {},
   "source": [
    "AdaBoost utiliza la técnica de pesar ejemplos.  \n",
    "Cuando se pesan los ejemplos, se guia el modelo a un mejor aprendizaje, sin embargo en el caso de que exista overfitting, éste no se verá reducido.  De ahí que lo más sensato deberia ser tomado en cuenta el modelo, si vamos a utilizar muchos árboles correlacionados, Bagging no será útil para valores de n grandes; y si se va a utilizar un árbol que presenta overfitting, AdaBoost no será útil.  "
   ]
  },
  {
   "cell_type": "code",
   "execution_count": 164,
   "metadata": {},
   "outputs": [],
   "source": [
    "from sklearn.ensemble import AdaBoostClassifier"
   ]
  },
  {
   "cell_type": "markdown",
   "metadata": {},
   "source": [
    "Primero veamos el árbol no regularizado.  "
   ]
  },
  {
   "cell_type": "code",
   "execution_count": 265,
   "metadata": {},
   "outputs": [
    {
     "name": "stdout",
     "output_type": "stream",
     "text": [
      "Train F1-score:  1.0\n",
      "Val F1-score:  0.590813158312142\n",
      "Test F1-score:  0.5694585470217831\n"
     ]
    }
   ],
   "source": [
    "model = AdaBoostClassifier(base_estimator=Tree(), n_estimators=1)\n",
    "model.fit(X_train,y_train)\n",
    "y_pred = model.predict(X_train)\n",
    "print(\"Train F1-score: \",f1_score(y_train,model.predict(X_train), average='weighted',  labels=np.unique(model.predict(X_train))))\n",
    "print(\"Val F1-score: \",f1_score(y_val,model.predict(X_val), average='weighted', labels=np.unique(model.predict(X_val))))\n",
    "print(\"Test F1-score: \", f1_score(y_test, model.predict(X_test), average='weighted',labels=np.unique(model.predict(X_test))))"
   ]
  },
  {
   "cell_type": "code",
   "execution_count": 264,
   "metadata": {},
   "outputs": [
    {
     "name": "stdout",
     "output_type": "stream",
     "text": [
      "Train F1-score:  1.0\n",
      "Val F1-score:  0.5866460803961298\n",
      "Test F1-score:  0.5678351703283526\n"
     ]
    }
   ],
   "source": [
    "model = AdaBoostClassifier(base_estimator=Tree(), n_estimators=2)\n",
    "model.fit(X_train,y_train)\n",
    "y_pred = model.predict(X_train)\n",
    "print(\"Train F1-score: \",f1_score(y_train,model.predict(X_train), average='weighted',  labels=np.unique(model.predict(X_train))))\n",
    "print(\"Val F1-score: \",f1_score(y_val,model.predict(X_val), average='weighted', labels=np.unique(model.predict(X_val))))\n",
    "print(\"Test F1-score: \", f1_score(y_test, model.predict(X_test), average='weighted',labels=np.unique(model.predict(X_test))))"
   ]
  },
  {
   "cell_type": "code",
   "execution_count": 263,
   "metadata": {},
   "outputs": [
    {
     "name": "stdout",
     "output_type": "stream",
     "text": [
      "Train F1-score:  1.0\n",
      "Val F1-score:  0.5798339587453166\n",
      "Test F1-score:  0.5662059518152837\n"
     ]
    }
   ],
   "source": [
    "model = AdaBoostClassifier(base_estimator=Tree(), n_estimators=3)\n",
    "model.fit(X_train,y_train)\n",
    "y_pred = model.predict(X_train)\n",
    "print(\"Train F1-score: \",f1_score(y_train,model.predict(X_train), average='weighted',  labels=np.unique(model.predict(X_train))))\n",
    "print(\"Val F1-score: \",f1_score(y_val,model.predict(X_val), average='weighted', labels=np.unique(model.predict(X_val))))\n",
    "print(\"Test F1-score: \", f1_score(y_test, model.predict(X_test), average='weighted',labels=np.unique(model.predict(X_test))))"
   ]
  },
  {
   "cell_type": "markdown",
   "metadata": {},
   "source": [
    "Ahora se realizará un gráfico del f1-score en función de la cantidad de árboles.  "
   ]
  },
  {
   "cell_type": "code",
   "execution_count": 172,
   "metadata": {},
   "outputs": [],
   "source": [
    "list_Train=[];\n",
    "list_Val=[];\n",
    "list_Test=[];\n",
    "for i in range(10):\n",
    "    model = AdaBoostClassifier(base_estimator=Tree(), n_estimators=i+1)\n",
    "    model.fit(X_train,y_train)\n",
    "    list_Train.append(f1_score(y_train,model.predict(X_train), average='weighted',  labels=np.unique(model.predict(X_train))));\n",
    "    list_Val.append(f1_score(y_val,model.predict(X_val), average='weighted', labels=np.unique(model.predict(X_val))));\n",
    "    list_Test.append(f1_score(y_test, model.predict(X_test), average='weighted',labels=np.unique(model.predict(X_test))));"
   ]
  },
  {
   "cell_type": "code",
   "execution_count": 182,
   "metadata": {},
   "outputs": [
    {
     "data": {
      "image/png": "[encoded data removed]",
      "text/plain": [
       "<Figure size 432x288 with 1 Axes>"
      ]
     },
     "metadata": {},
     "output_type": "display_data"
    }
   ],
   "source": [
    "fig, ax = plt.subplots()\n",
    "ax.plot([1,2,3,4,5,6,7,8,9,10],list_Train, label=\"Conjunto de entrenamiento\");\n",
    "ax.plot([1,2,3,4,5,6,7,8,9,10],list_Val, label=\"Conjunto de validación\");\n",
    "ax.plot([1,2,3,4,5,6,7,8,9,10],list_Test, label=\"Conjunto de prueba\");\n",
    "\n",
    "ax.legend(bbox_to_anchor=(1.05, 1), loc='upper left', borderaxespad=0.)\n",
    "ax.set(xlabel='Cantidad de árboles', ylabel='F1-score',\n",
    "       title='F1-score en AdaBoostClassifier árbol no regularizado')\n",
    "ax.grid()\n",
    "plt.show()"
   ]
  },
  {
   "cell_type": "markdown",
   "metadata": {},
   "source": [
    "Evidenciamos que adaboost no reduce en nada el overfitting del árbol regularizado.  "
   ]
  },
  {
   "cell_type": "markdown",
   "metadata": {},
   "source": [
    "Veremos que pasa en el caso del árbol regularizado.   "
   ]
  },
  {
   "cell_type": "code",
   "execution_count": 262,
   "metadata": {},
   "outputs": [
    {
     "name": "stdout",
     "output_type": "stream",
     "text": [
      "Train F1-score:  0.6872012838552163\n",
      "Val F1-score:  0.5050490824236809\n",
      "Test F1-score:  0.5467843491842679\n"
     ]
    }
   ],
   "source": [
    "model = AdaBoostClassifier(base_estimator=Tree(max_depth=12, criterion='gini',splitter='best',min_samples_leaf=10), n_estimators=1)\n",
    "model.fit(X_train,y_train)\n",
    "y_pred = model.predict(X_train)\n",
    "print(\"Train F1-score: \",f1_score(y_train,model.predict(X_train), average='weighted',  labels=np.unique(model.predict(X_train))))\n",
    "print(\"Val F1-score: \",f1_score(y_val,model.predict(X_val), average='weighted', labels=np.unique(model.predict(X_val))))\n",
    "print(\"Test F1-score: \", f1_score(y_test, model.predict(X_test), average='weighted',labels=np.unique(model.predict(X_test))))"
   ]
  },
  {
   "cell_type": "code",
   "execution_count": 261,
   "metadata": {},
   "outputs": [
    {
     "name": "stdout",
     "output_type": "stream",
     "text": [
      "Train F1-score:  0.66110854523357\n",
      "Val F1-score:  0.4819214567351946\n",
      "Test F1-score:  0.5083289797146152\n"
     ]
    }
   ],
   "source": [
    "model = AdaBoostClassifier(base_estimator=Tree(max_depth=12, criterion='gini',splitter='best',min_samples_leaf=10), n_estimators=2)\n",
    "model.fit(X_train,y_train)\n",
    "y_pred = model.predict(X_train)\n",
    "print(\"Train F1-score: \",f1_score(y_train,model.predict(X_train), average='weighted',  labels=np.unique(model.predict(X_train))))\n",
    "print(\"Val F1-score: \",f1_score(y_val,model.predict(X_val), average='weighted', labels=np.unique(model.predict(X_val))))\n",
    "print(\"Test F1-score: \", f1_score(y_test, model.predict(X_test), average='weighted',labels=np.unique(model.predict(X_test))))"
   ]
  },
  {
   "cell_type": "code",
   "execution_count": 260,
   "metadata": {},
   "outputs": [
    {
     "name": "stdout",
     "output_type": "stream",
     "text": [
      "Train F1-score:  0.7006956891980785\n",
      "Val F1-score:  0.5218035019966539\n",
      "Test F1-score:  0.5302659061775171\n"
     ]
    }
   ],
   "source": [
    "model = AdaBoostClassifier(base_estimator=Tree(max_depth=12, criterion='gini',splitter='best',min_samples_leaf=10), n_estimators=3)\n",
    "model.fit(X_train,y_train)\n",
    "y_pred = model.predict(X_train)\n",
    "print(\"Train F1-score: \",f1_score(y_train,model.predict(X_train), average='weighted',  labels=np.unique(model.predict(X_train))))\n",
    "print(\"Val F1-score: \",f1_score(y_val,model.predict(X_val), average='weighted', labels=np.unique(model.predict(X_val))))\n",
    "print(\"Test F1-score: \", f1_score(y_test, model.predict(X_test), average='weighted',labels=np.unique(model.predict(X_test))))"
   ]
  },
  {
   "cell_type": "markdown",
   "metadata": {},
   "source": [
    "Veremos como se porta el F1-score en función de la cantidad de árboles.  "
   ]
  },
  {
   "cell_type": "code",
   "execution_count": 180,
   "metadata": {},
   "outputs": [],
   "source": [
    "list_Train1=[];\n",
    "list_Val1=[];\n",
    "list_Test1=[];\n",
    "for i in range(10):\n",
    "    model = AdaBoostClassifier(base_estimator=Tree(max_depth=12, criterion='gini',splitter='best',min_samples_leaf=10), n_estimators=i+1)\n",
    "    model.fit(X_train,y_train)\n",
    "    list_Train1.append(f1_score(y_train,model.predict(X_train), average='weighted',  labels=np.unique(model.predict(X_train))));\n",
    "    list_Val1.append(f1_score(y_val,model.predict(X_val), average='weighted', labels=np.unique(model.predict(X_val))));\n",
    "    list_Test1.append(f1_score(y_test, model.predict(X_test), average='weighted',labels=np.unique(model.predict(X_test))));"
   ]
  },
  {
   "cell_type": "code",
   "execution_count": 181,
   "metadata": {},
   "outputs": [
    {
     "data": {
      "image/png": "[encoded data removed]",
      "text/plain": [
       "<Figure size 432x288 with 1 Axes>"
      ]
     },
     "metadata": {},
     "output_type": "display_data"
    }
   ],
   "source": [
    "fig, ax = plt.subplots()\n",
    "ax.plot([1,2,3,4,5,6,7,8,9,10],list_Train1, label=\"Conjunto de entrenamiento\");\n",
    "ax.plot([1,2,3,4,5,6,7,8,9,10],list_Val1, label=\"Conjunto de validación\");\n",
    "ax.plot([1,2,3,4,5,6,7,8,9,10],list_Test1, label=\"Conjunto de prueba\");\n",
    "\n",
    "ax.legend(bbox_to_anchor=(1.05, 1), loc='upper left', borderaxespad=0.)\n",
    "ax.set(xlabel='Cantidad de árboles', ylabel='F1-score',\n",
    "       title='F1-score en adaBoostClassifier árbol regularizado')\n",
    "ax.grid()\n",
    "plt.show()"
   ]
  },
  {
   "cell_type": "markdown",
   "metadata": {},
   "source": [
    "A diferencia del árbol no regularizado en el que se ve overfitting desde el inicio, aqui se observa que hay una tendencia al overfitting, pero el f1-score varia dependiendo de la cantidad de árboles.  "
   ]
  },
  {
   "cell_type": "markdown",
   "metadata": {},
   "source": [
    "#### f) Pruebe otra técnica de ensamblado dedicada a árboles de decisión, que combina el muestreo *boostrap* de *Bagging* con muestreo sobre las *features*: **Random Forest**, compare el Árbol **no regularizado** con el **regularizado** ¿Se visualiza *overfitting*?. Varíe la cantidad de árboles de decisión utilizados en el ensamblado (*n estimators*), realice un gráfico resumen el F1-score de entrenamiento y de pruebas en función de este hiper-parámetro."
   ]
  },
  {
   "cell_type": "code",
   "execution_count": 183,
   "metadata": {},
   "outputs": [],
   "source": [
    "from sklearn.ensemble import RandomForestClassifier\n",
    "model = RandomForestClassifier(n_estimators=, max_depth=,n_jobs=-1)"
   ]
  },
  {
   "cell_type": "code",
   "execution_count": 259,
   "metadata": {},
   "outputs": [
    {
     "name": "stdout",
     "output_type": "stream",
     "text": [
      "Train F1-score:  0.8168030180810374\n",
      "Val F1-score:  0.5249584665234487\n",
      "Test F1-score:  0.5172006781654928\n"
     ]
    }
   ],
   "source": [
    "model = RandomForestClassifier(n_estimators=1, n_jobs=-1)\n",
    "model.fit(X_train,y_train)\n",
    "y_pred = model.predict(X_train)\n",
    "print(\"Train F1-score: \",f1_score(y_train,model.predict(X_train), average='weighted',  labels=np.unique(model.predict(X_train))))\n",
    "print(\"Val F1-score: \",f1_score(y_val,model.predict(X_val), average='weighted', labels=np.unique(model.predict(X_val))))\n",
    "print(\"Test F1-score: \", f1_score(y_test, model.predict(X_test), average='weighted',labels=np.unique(model.predict(X_test))))"
   ]
  },
  {
   "cell_type": "code",
   "execution_count": 258,
   "metadata": {},
   "outputs": [
    {
     "name": "stdout",
     "output_type": "stream",
     "text": [
      "Train F1-score:  0.8117341424381154\n",
      "Val F1-score:  0.5040859119337802\n",
      "Test F1-score:  0.5051460060487156\n"
     ]
    }
   ],
   "source": [
    "model = RandomForestClassifier(n_estimators=2, n_jobs=-1)\n",
    "model.fit(X_train,y_train)\n",
    "y_pred = model.predict(X_train)\n",
    "print(\"Train F1-score: \",f1_score(y_train,model.predict(X_train), average='weighted',  labels=np.unique(model.predict(X_train))))\n",
    "print(\"Val F1-score: \",f1_score(y_val,model.predict(X_val), average='weighted', labels=np.unique(model.predict(X_val))))\n",
    "print(\"Test F1-score: \", f1_score(y_test, model.predict(X_test), average='weighted',labels=np.unique(model.predict(X_test))))"
   ]
  },
  {
   "cell_type": "code",
   "execution_count": 257,
   "metadata": {},
   "outputs": [
    {
     "name": "stdout",
     "output_type": "stream",
     "text": [
      "Train F1-score:  0.9124016904308668\n",
      "Val F1-score:  0.5400089441225484\n",
      "Test F1-score:  0.5364962042842699\n"
     ]
    }
   ],
   "source": [
    "model = RandomForestClassifier(n_estimators=3, n_jobs=-1)\n",
    "model.fit(X_train,y_train)\n",
    "y_pred = model.predict(X_train)\n",
    "print(\"Train F1-score: \",f1_score(y_train,model.predict(X_train), average='weighted',  labels=np.unique(model.predict(X_train))))\n",
    "print(\"Val F1-score: \",f1_score(y_val,model.predict(X_val), average='weighted', labels=np.unique(model.predict(X_val))))\n",
    "print(\"Test F1-score: \", f1_score(y_test, model.predict(X_test), average='weighted',labels=np.unique(model.predict(X_test))))"
   ]
  },
  {
   "cell_type": "markdown",
   "metadata": {},
   "source": [
    "Al igual que en las partes anteriores, se procede a realizar el gráfico del F1-score.  "
   ]
  },
  {
   "cell_type": "code",
   "execution_count": 188,
   "metadata": {},
   "outputs": [],
   "source": [
    "list_Train=[];\n",
    "list_Val=[];\n",
    "list_Test=[];\n",
    "for i in range(10):\n",
    "    model = RandomForestClassifier(n_estimators=i+1, n_jobs=-1)\n",
    "    model.fit(X_train,y_train)\n",
    "    list_Train.append(f1_score(y_train,model.predict(X_train), average='weighted',  labels=np.unique(model.predict(X_train))));\n",
    "    list_Val.append(f1_score(y_val,model.predict(X_val), average='weighted', labels=np.unique(model.predict(X_val))));\n",
    "    list_Test.append(f1_score(y_test, model.predict(X_test), average='weighted',labels=np.unique(model.predict(X_test))));"
   ]
  },
  {
   "cell_type": "code",
   "execution_count": 190,
   "metadata": {},
   "outputs": [
    {
     "data": {
      "image/png": "[encoded data removed]",
      "text/plain": [
       "<Figure size 432x288 with 1 Axes>"
      ]
     },
     "metadata": {},
     "output_type": "display_data"
    }
   ],
   "source": [
    "fig, ax = plt.subplots()\n",
    "ax.plot([1,2,3,4,5,6,7,8,9,10],list_Train, label=\"Conjunto de entrenamiento\");\n",
    "ax.plot([1,2,3,4,5,6,7,8,9,10],list_Val, label=\"Conjunto de validación\");\n",
    "ax.plot([1,2,3,4,5,6,7,8,9,10],list_Test, label=\"Conjunto de prueba\");\n",
    "\n",
    "ax.legend(bbox_to_anchor=(1.05, 1), loc='upper left', borderaxespad=0.)\n",
    "ax.set(xlabel='Cantidad de árboles', ylabel='F1-score',\n",
    "       title='F1-score en RandomForestClassifier árbol no regularizado')\n",
    "ax.grid()\n",
    "plt.show()"
   ]
  },
  {
   "cell_type": "markdown",
   "metadata": {},
   "source": [
    "Ahora veremos el árbol regularizado.  "
   ]
  },
  {
   "cell_type": "code",
   "execution_count": 256,
   "metadata": {},
   "outputs": [
    {
     "name": "stdout",
     "output_type": "stream",
     "text": [
      "Train F1-score:  0.5970744602887358\n",
      "Val F1-score:  0.4823494269289788\n",
      "Test F1-score:  0.475901730446425\n"
     ]
    }
   ],
   "source": [
    "model = RandomForestClassifier(max_depth=12, criterion='gini',min_samples_leaf=10, n_estimators=1, n_jobs=-1)\n",
    "model.fit(X_train,y_train)\n",
    "y_pred = model.predict(X_train)\n",
    "print(\"Train F1-score: \",f1_score(y_train,model.predict(X_train), average='weighted',  labels=np.unique(model.predict(X_train))))\n",
    "print(\"Val F1-score: \",f1_score(y_val,model.predict(X_val), average='weighted', labels=np.unique(model.predict(X_val))))\n",
    "print(\"Test F1-score: \", f1_score(y_test, model.predict(X_test), average='weighted',labels=np.unique(model.predict(X_test))))"
   ]
  },
  {
   "cell_type": "code",
   "execution_count": 255,
   "metadata": {},
   "outputs": [
    {
     "name": "stdout",
     "output_type": "stream",
     "text": [
      "Train F1-score:  0.6245066608539938\n",
      "Val F1-score:  0.5148861521575482\n",
      "Test F1-score:  0.5185584795011361\n"
     ]
    }
   ],
   "source": [
    "model = RandomForestClassifier(max_depth=12, criterion='gini',min_samples_leaf=10, n_estimators=2, n_jobs=-1)\n",
    "model.fit(X_train,y_train)\n",
    "y_pred = model.predict(X_train)\n",
    "print(\"Train F1-score: \",f1_score(y_train,model.predict(X_train), average='weighted',  labels=np.unique(model.predict(X_train))))\n",
    "print(\"Val F1-score: \",f1_score(y_val,model.predict(X_val), average='weighted', labels=np.unique(model.predict(X_val))))\n",
    "print(\"Test F1-score: \", f1_score(y_test, model.predict(X_test), average='weighted',labels=np.unique(model.predict(X_test))))"
   ]
  },
  {
   "cell_type": "code",
   "execution_count": 254,
   "metadata": {},
   "outputs": [
    {
     "name": "stdout",
     "output_type": "stream",
     "text": [
      "Train F1-score:  0.6474815177490163\n",
      "Val F1-score:  0.5030852788229446\n",
      "Test F1-score:  0.5683189047976107\n"
     ]
    }
   ],
   "source": [
    "model = RandomForestClassifier(max_depth=12, criterion='gini',min_samples_leaf=10, n_estimators=3, n_jobs=-1)\n",
    "model.fit(X_train,y_train)\n",
    "y_pred = model.predict(X_train)\n",
    "print(\"Train F1-score: \",f1_score(y_train,model.predict(X_train), average='weighted',  labels=np.unique(model.predict(X_train))))\n",
    "print(\"Val F1-score: \",f1_score(y_val,model.predict(X_val), average='weighted', labels=np.unique(model.predict(X_val))))\n",
    "print(\"Test F1-score: \", f1_score(y_test, model.predict(X_test), average='weighted',labels=np.unique(model.predict(X_test))))"
   ]
  },
  {
   "cell_type": "code",
   "execution_count": 195,
   "metadata": {},
   "outputs": [],
   "source": [
    "list_Train1=[];\n",
    "list_Val1=[];\n",
    "list_Test1=[];\n",
    "for i in range(10):\n",
    "    model = RandomForestClassifier(max_depth=12, criterion='gini',min_samples_leaf=10, n_estimators=i+1)\n",
    "    model.fit(X_train,y_train)\n",
    "    list_Train1.append(f1_score(y_train,model.predict(X_train), average='weighted',  labels=np.unique(model.predict(X_train))));\n",
    "    list_Val1.append(f1_score(y_val,model.predict(X_val), average='weighted', labels=np.unique(model.predict(X_val))));\n",
    "    list_Test1.append(f1_score(y_test, model.predict(X_test), average='weighted',labels=np.unique(model.predict(X_test))));"
   ]
  },
  {
   "cell_type": "code",
   "execution_count": 196,
   "metadata": {},
   "outputs": [
    {
     "data": {
      "image/png": "[encoded data removed]",
      "text/plain": [
       "<Figure size 432x288 with 1 Axes>"
      ]
     },
     "metadata": {},
     "output_type": "display_data"
    }
   ],
   "source": [
    "fig, ax = plt.subplots()\n",
    "ax.plot([1,2,3,4,5,6,7,8,9,10],list_Train1, label=\"Conjunto de entrenamiento\");\n",
    "ax.plot([1,2,3,4,5,6,7,8,9,10],list_Val1, label=\"Conjunto de validación\");\n",
    "ax.plot([1,2,3,4,5,6,7,8,9,10],list_Test1, label=\"Conjunto de prueba\");\n",
    "\n",
    "ax.legend(bbox_to_anchor=(1.05, 1), loc='upper left', borderaxespad=0.)\n",
    "ax.set(xlabel='Cantidad de árboles', ylabel='F1-score',\n",
    "       title='F1-score en RandomForestClassifier árbol regularizado')\n",
    "ax.grid()\n",
    "plt.show()"
   ]
  },
  {
   "cell_type": "markdown",
   "metadata": {},
   "source": [
    "En el árbol no regularizado se observa una clara tendencia a overfitting, sin embargo, el F1-score del árbol regularizado parece estabilizarse en un cercano a 0.7.  "
   ]
  },
  {
   "cell_type": "markdown",
   "metadata": {},
   "source": [
    "#### g) Verifique que el **OOB error** (*out of bag error*) de los ensambladores que utilizan la técnica *boostrap* puede ser una alternativa como métrica de generalización, compárelo con el error calculado sobre el conjunto de pruebas y validación (o en su defecto *cross validation*)."
   ]
  },
  {
   "cell_type": "markdown",
   "metadata": {},
   "source": [
    "Los ensambladores previos que utilizan boosting son Bagging y Random Forest.  \n",
    "Por simplicidad, estudiaremos 4 casos, de ensamblajes de 25 árboles correspondientes a:\n",
    "\n",
    "$\\textbf{Caso 1:}$ Bagging de árbol no regularizado.  \n",
    "$\\textbf{Caso 2:}$ Bagging de árbol regularizado.  \n",
    "$\\textbf{Caso 3:}$ Random Forest de árbol no regularizado.  \n",
    "$\\textbf{Caso 4:}$ Random Forest de árbol regularizado.  "
   ]
  },
  {
   "cell_type": "code",
   "execution_count": 253,
   "metadata": {},
   "outputs": [
    {
     "name": "stdout",
     "output_type": "stream",
     "text": [
      "Train F1-score:  0.9984603534988651\n",
      "Val F1-score:  0.6346565663429762\n",
      "Test F1-score:  0.6308554980242141\n",
      "OOB error:  0.3813189633051065\n",
      "Val error:  0.35923076923076924\n",
      "Test error:  0.36\n"
     ]
    }
   ],
   "source": [
    "model = BaggingClassifier(base_estimator=Tree(), n_estimators=25, n_jobs=-1, warm_start=False, oob_score=True)\n",
    "model.fit(X_train,y_train)\n",
    "y_pred = model.predict(X_train)\n",
    "print(\"Train F1-score: \",f1_score(y_train,model.predict(X_train), average='weighted',  labels=np.unique(model.predict(X_train))))\n",
    "print(\"Val F1-score: \",f1_score(y_val,model.predict(X_val), average='weighted', labels=np.unique(model.predict(X_val))))\n",
    "print(\"Test F1-score: \", f1_score(y_test, model.predict(X_test), average='weighted',labels=np.unique(model.predict(X_test))))\n",
    "oob_error = 1 - model.oob_score_\n",
    "test_error = 1 - model.score(X_test,y_test)\n",
    "val_error = 1 - model.score(X_val,y_val)\n",
    "print(\"OOB error: \" ,oob_error)\n",
    "print (\"Val error: \" ,val_error)\n",
    "print(\"Test error: \" ,test_error)"
   ]
  },
  {
   "cell_type": "code",
   "execution_count": 252,
   "metadata": {},
   "outputs": [
    {
     "name": "stderr",
     "output_type": "stream",
     "text": [
      "C:\\Users\\Matu\\Anaconda3\\lib\\site-packages\\sklearn\\ensemble\\bagging.py:605: UserWarning: Some inputs do not have OOB scores. This probably means too few estimators were used to compute any reliable oob estimates.\n",
      "  warn(\"Some inputs do not have OOB scores. \"\n",
      "C:\\Users\\Matu\\Anaconda3\\lib\\site-packages\\sklearn\\ensemble\\bagging.py:610: RuntimeWarning: invalid value encountered in true_divide\n",
      "  predictions.sum(axis=1)[:, np.newaxis])\n"
     ]
    },
    {
     "name": "stdout",
     "output_type": "stream",
     "text": [
      "Train F1-score:  0.730985444877924\n",
      "Val F1-score:  0.5891674331650314\n",
      "Test F1-score:  0.5882585342411204\n",
      "OOB error:  0.41159866564023606\n",
      "Val error:  0.4061538461538462\n",
      "Test error:  0.38923076923076927\n"
     ]
    }
   ],
   "source": [
    "model = BaggingClassifier(base_estimator=Tree(max_depth=12, criterion='gini',splitter='best',min_samples_leaf=10), n_estimators=25, n_jobs=-1, warm_start=False, oob_score=True)\n",
    "model.fit(X_train,y_train)\n",
    "y_pred = model.predict(X_train)\n",
    "print(\"Train F1-score: \",f1_score(y_train,model.predict(X_train), average='weighted',  labels=np.unique(model.predict(X_train))))\n",
    "print(\"Val F1-score: \",f1_score(y_val,model.predict(X_val), average='weighted', labels=np.unique(model.predict(X_val))))\n",
    "print(\"Test F1-score: \", f1_score(y_test, model.predict(X_test), average='weighted',labels=np.unique(model.predict(X_test))))\n",
    "oob_error = 1 - model.oob_score_\n",
    "test_error = 1 - model.score(X_test,y_test)\n",
    "val_error = 1 - model.score(X_val,y_val)\n",
    "print(\"OOB error: \" ,oob_error)\n",
    "print (\"Val error: \" ,val_error)\n",
    "print(\"Test error: \" ,test_error)"
   ]
  },
  {
   "cell_type": "code",
   "execution_count": 251,
   "metadata": {},
   "outputs": [
    {
     "name": "stdout",
     "output_type": "stream",
     "text": [
      "Train F1-score:  0.9989733695631414\n",
      "Val F1-score:  0.6563833875948151\n",
      "Test F1-score:  0.6375827103394303\n",
      "OOB error:  0.36977161919425194\n",
      "Val error:  0.3384615384615385\n",
      "Test error:  0.35307692307692307\n"
     ]
    }
   ],
   "source": [
    "model = RandomForestClassifier(n_estimators=25, n_jobs=-1, warm_start=True, oob_score=True)\n",
    "model.fit(X_train,y_train)\n",
    "y_pred = model.predict(X_train)\n",
    "print(\"Train F1-score: \",f1_score(y_train,model.predict(X_train), average='weighted',  labels=np.unique(model.predict(X_train))))\n",
    "print(\"Val F1-score: \",f1_score(y_val,model.predict(X_val), average='weighted', labels=np.unique(model.predict(X_val))))\n",
    "print(\"Test F1-score: \", f1_score(y_test, model.predict(X_test), average='weighted',labels=np.unique(model.predict(X_test))))\n",
    "oob_error = 1 - model.oob_score_\n",
    "test_error = 1 - model.score(X_test,y_test)\n",
    "val_error = 1 - model.score(X_val,y_val)\n",
    "print(\"OOB error: \" ,oob_error)\n",
    "print (\"Val error: \" ,val_error)\n",
    "print(\"Test error: \" ,test_error)"
   ]
  },
  {
   "cell_type": "code",
   "execution_count": 250,
   "metadata": {},
   "outputs": [
    {
     "name": "stdout",
     "output_type": "stream",
     "text": [
      "Train F1-score:  0.7225950743442073\n",
      "Val F1-score:  0.5788790078958282\n",
      "Test F1-score:  0.6030336878534772\n",
      "OOB error:  0.41416474210931487\n",
      "Val error:  0.41538461538461535\n",
      "Test error:  0.39692307692307693\n"
     ]
    }
   ],
   "source": [
    "model = RandomForestClassifier(max_depth=12, criterion='gini',min_samples_leaf=10, n_estimators=25, n_jobs=-1,  warm_start=True, oob_score=True)\n",
    "model.fit(X_train,y_train)\n",
    "y_pred = model.predict(X_train)\n",
    "print(\"Train F1-score: \",f1_score(y_train,model.predict(X_train), average='weighted',  labels=np.unique(model.predict(X_train))))\n",
    "print(\"Val F1-score: \",f1_score(y_val,model.predict(X_val), average='weighted', labels=np.unique(model.predict(X_val))))\n",
    "print(\"Test F1-score: \", f1_score(y_test, model.predict(X_test), average='weighted',labels=np.unique(model.predict(X_test))))\n",
    "oob_error = 1 - model.oob_score_\n",
    "test_error = 1 - model.score(X_test,y_test)\n",
    "val_error = 1 - model.score(X_val,y_val)\n",
    "print(\"OOB error: \" ,oob_error)\n",
    "print (\"Val error: \" ,val_error)\n",
    "print(\"Test error: \" ,test_error)"
   ]
  },
  {
   "cell_type": "markdown",
   "metadata": {},
   "source": [
    "En los cuatro casos presentados, notamos que el OOB error es bastante cercano al error que se usa tradicionalmente. Por ende, concluimos que OOB error sí es significativo.  "
   ]
  },
  {
   "cell_type": "markdown",
   "metadata": {},
   "source": [
    "#### h) Entrene alguna otra máquina de aprendizaje, elegida por usted de entre todas las vistas en el curso, para resolver el problema. Elija los hiper-parámetros que estime convenientes intentando aumentar el *F1-scor*e obtenido por los algoritmos anteriores ¿Se logra una mejora? ¿Por qué?"
   ]
  },
  {
   "cell_type": "markdown",
   "metadata": {},
   "source": [
    "Como abordamos este problema como un problema de clasificación multiclase, estimamos que es un problema muy similar al realizado en la pregunta 4 de la tarea anterior. Por esto, la máquina de aprendizaje que utilizaremos será una red neuronal con los mismos parámetros de dicha pregunta. Se espera que no existan mejoras significativas, ya que este problema no es un problema puro de multiclases ni puramente de regresión, ya que las clases poseen un orden jerárquico y toman valores discretos.  "
   ]
  },
  {
   "cell_type": "markdown",
   "metadata": {},
   "source": [
    "Para utilizar la red neuronal, se requiere de la representación adecuada.  "
   ]
  },
  {
   "cell_type": "code",
   "execution_count": 228,
   "metadata": {},
   "outputs": [],
   "source": [
    "Y_train_codif=[];\n",
    "Y_test_codif=[];\n",
    "Y_val_codif=[];\n",
    "for i in range(3897):\n",
    "    Y_train_codif.append(int(int(y_train[i])-3));\n",
    "    if i<1300:\n",
    "        Y_test_codif.append(int(int(y_test[i])-3));\n",
    "        Y_val_codif.append(int(int(y_val[i])-3));\n",
    "Y_train_codif=np.asarray(Y_train_codif);\n",
    "Y_test_codif=np.asarray(Y_test_codif);\n",
    "Y_val_codif=np.asarray(Y_val_codif);"
   ]
  },
  {
   "cell_type": "code",
   "execution_count": 229,
   "metadata": {},
   "outputs": [
    {
     "name": "stdout",
     "output_type": "stream",
     "text": [
      "(3897,) (1300,) (1300,)\n"
     ]
    }
   ],
   "source": [
    "print(Y_train_codif.shape,Y_test_codif.shape,Y_val_codif.shape)"
   ]
  },
  {
   "cell_type": "code",
   "execution_count": 233,
   "metadata": {},
   "outputs": [
    {
     "name": "stderr",
     "output_type": "stream",
     "text": [
      "C:\\Users\\Matu\\Anaconda3\\lib\\site-packages\\h5py\\__init__.py:36: FutureWarning: Conversion of the second argument of issubdtype from `float` to `np.floating` is deprecated. In future, it will be treated as `np.float64 == np.dtype(float).type`.\n",
      "  from ._conv import register_converters as _register_converters\n",
      "Using TensorFlow backend.\n"
     ]
    }
   ],
   "source": [
    "import keras\n",
    "y_onehot_train = keras.utils.to_categorical(Y_train_codif,num_classes=7)\n",
    "y_onehot_test = keras.utils.to_categorical(Y_test_codif,num_classes=7)\n",
    "y_onehot_val = keras.utils.to_categorical(Y_val_codif,num_classes=7)"
   ]
  },
  {
   "cell_type": "code",
   "execution_count": 240,
   "metadata": {},
   "outputs": [],
   "source": [
    "from sklearn.preprocessing import StandardScaler\n",
    "std = StandardScaler()\n",
    "std.fit(X_train)\n",
    "X_train_scaled = std.transform(X_train)\n",
    "X_test_scaled = std.transform(X_test)\n",
    "X_val_scaled = std.transform(X_val)"
   ]
  },
  {
   "cell_type": "code",
   "execution_count": 241,
   "metadata": {},
   "outputs": [
    {
     "name": "stdout",
     "output_type": "stream",
     "text": [
      "Epoch 1/40\n",
      "3897/3897 [==============================] - 1s 140us/step - loss: 1.3517\n",
      "Epoch 2/40\n",
      "3897/3897 [==============================] - 0s 29us/step - loss: 1.1101\n",
      "Epoch 3/40\n",
      "3897/3897 [==============================] - 0s 39us/step - loss: 1.0642\n",
      "Epoch 4/40\n",
      "3897/3897 [==============================] - 0s 38us/step - loss: 1.0443\n",
      "Epoch 5/40\n",
      "3897/3897 [==============================] - 0s 33us/step - loss: 1.0204\n",
      "Epoch 6/40\n",
      "3897/3897 [==============================] - 0s 38us/step - loss: 1.0160\n",
      "Epoch 7/40\n",
      "3897/3897 [==============================] - 0s 37us/step - loss: 1.0027\n",
      "Epoch 8/40\n",
      "3897/3897 [==============================] - 0s 39us/step - loss: 0.9868\n",
      "Epoch 9/40\n",
      "3897/3897 [==============================] - 0s 33us/step - loss: 0.9747\n",
      "Epoch 10/40\n",
      "3897/3897 [==============================] - 0s 41us/step - loss: 0.9703\n",
      "Epoch 11/40\n",
      "3897/3897 [==============================] - 0s 44us/step - loss: 0.9637\n",
      "Epoch 12/40\n",
      "3897/3897 [==============================] - 0s 37us/step - loss: 0.9543\n",
      "Epoch 13/40\n",
      "3897/3897 [==============================] - 0s 36us/step - loss: 0.9461\n",
      "Epoch 14/40\n",
      "3897/3897 [==============================] - 0s 35us/step - loss: 0.9357\n",
      "Epoch 15/40\n",
      "3897/3897 [==============================] - 0s 37us/step - loss: 0.9306\n",
      "Epoch 16/40\n",
      "3897/3897 [==============================] - 0s 34us/step - loss: 0.9220\n",
      "Epoch 17/40\n",
      "3897/3897 [==============================] - 0s 34us/step - loss: 0.9204\n",
      "Epoch 18/40\n",
      "3897/3897 [==============================] - 0s 38us/step - loss: 0.9134\n",
      "Epoch 19/40\n",
      "3897/3897 [==============================] - 0s 43us/step - loss: 0.9075\n",
      "Epoch 20/40\n",
      "3897/3897 [==============================] - 0s 35us/step - loss: 0.8985\n",
      "Epoch 21/40\n",
      "3897/3897 [==============================] - 0s 40us/step - loss: 0.8934\n",
      "Epoch 22/40\n",
      "3897/3897 [==============================] - 0s 42us/step - loss: 0.8879\n",
      "Epoch 23/40\n",
      "3897/3897 [==============================] - 0s 35us/step - loss: 0.8810\n",
      "Epoch 24/40\n",
      "3897/3897 [==============================] - 0s 36us/step - loss: 0.8813\n",
      "Epoch 25/40\n",
      "3897/3897 [==============================] - 0s 33us/step - loss: 0.8686\n",
      "Epoch 26/40\n",
      "3897/3897 [==============================] - 0s 33us/step - loss: 0.8601\n",
      "Epoch 27/40\n",
      "3897/3897 [==============================] - 0s 35us/step - loss: 0.8566\n",
      "Epoch 28/40\n",
      "3897/3897 [==============================] - 0s 38us/step - loss: 0.8528\n",
      "Epoch 29/40\n",
      "3897/3897 [==============================] - 0s 41us/step - loss: 0.8467\n",
      "Epoch 30/40\n",
      "3897/3897 [==============================] - 0s 54us/step - loss: 0.8409\n",
      "Epoch 31/40\n",
      "3897/3897 [==============================] - 0s 35us/step - loss: 0.8372\n",
      "Epoch 32/40\n",
      "3897/3897 [==============================] - 0s 38us/step - loss: 0.8271\n",
      "Epoch 33/40\n",
      "3897/3897 [==============================] - 0s 38us/step - loss: 0.8209\n",
      "Epoch 34/40\n",
      "3897/3897 [==============================] - 0s 33us/step - loss: 0.8163\n",
      "Epoch 35/40\n",
      "3897/3897 [==============================] - 0s 34us/step - loss: 0.8143\n",
      "Epoch 36/40\n",
      "3897/3897 [==============================] - 0s 52us/step - loss: 0.8039\n",
      "Epoch 37/40\n",
      "3897/3897 [==============================] - 0s 40us/step - loss: 0.8000\n",
      "Epoch 38/40\n",
      "3897/3897 [==============================] - 0s 34us/step - loss: 0.7989\n",
      "Epoch 39/40\n",
      "3897/3897 [==============================] - 0s 35us/step - loss: 0.7857\n",
      "Epoch 40/40\n",
      "3897/3897 [==============================] - 0s 33us/step - loss: 0.7880\n",
      "--- 7.0000364780426025 seconds ---\n"
     ]
    }
   ],
   "source": [
    "import time\n",
    "start_time =time.time()\n",
    "    \n",
    "from keras.models import Sequential\n",
    "from keras.layers import Dense\n",
    "from keras.optimizers import Adam\n",
    "model = Sequential()\n",
    "model.add(Dense(256, input_dim=X_train.shape[1], activation=\"relu\"))\n",
    "model.add(Dense(128, activation=\"relu\"))\n",
    "model.add(Dense(y_onehot_train.shape[1], activation=\"softmax\"))\n",
    "model.compile(optimizer=\"Adam\", loss=\"categorical_crossentropy\")\n",
    "model.fit(X_train_scaled, y_onehot_train, epochs=40, batch_size=128, verbose=1)\n",
    "\n",
    "print(\"--- %s seconds ---\" % (time.time() - start_time))"
   ]
  },
  {
   "cell_type": "markdown",
   "metadata": {},
   "source": [
    "Ahora necesitamos volver a la representación original para poder interpretar los datos.  "
   ]
  },
  {
   "cell_type": "code",
   "execution_count": 242,
   "metadata": {},
   "outputs": [],
   "source": [
    "y_pred_train_nn=model.predict(X_train_scaled);\n",
    "y_pred_test_nn=model.predict(X_test_scaled);\n",
    "y_pred_val_nn=model.predict(X_val_scaled);"
   ]
  },
  {
   "cell_type": "code",
   "execution_count": 245,
   "metadata": {},
   "outputs": [],
   "source": [
    "def f(x):\n",
    "    if x==0:\n",
    "        return 3;\n",
    "    elif x==1:\n",
    "        return 4;\n",
    "    elif x==2:\n",
    "        return 5;\n",
    "    elif x==3:\n",
    "        return 6;\n",
    "    elif x==4:\n",
    "        return 7;\n",
    "    elif x==5:\n",
    "        return 8;\n",
    "    elif x==6:\n",
    "        return 9;\n",
    "\n",
    "\n",
    "y_pred_train_nn_etiquetas=[];\n",
    "y_pred_test_nn_etiquetas=[];\n",
    "y_pred_val_nn_etiquetas=[];\n",
    "for i in range(3897):\n",
    "    posMax=6;\n",
    "    valMax=y_pred_train_nn[i][6]\n",
    "    for j in range(6):\n",
    "        if y_pred_train_nn[i][j] > valMax:\n",
    "            valMax=y_pred_train_nn[i][j];\n",
    "            posMax=j;\n",
    "    y_pred_train_nn_etiquetas.append(f(posMax));\n",
    "    if i < 1300:\n",
    "        posMax=6;\n",
    "        valMax=y_pred_test_nn[i][6]\n",
    "        for j in range(6):\n",
    "            if y_pred_test_nn[i][j] > valMax:\n",
    "                valMax=y_pred_test_nn[i][j];\n",
    "                posMax=j;\n",
    "        y_pred_test_nn_etiquetas.append(f(posMax)); \n",
    "        \n",
    "        posMax=6;\n",
    "        valMax=y_pred_val_nn[i][6]\n",
    "        for j in range(6):\n",
    "            if y_pred_val_nn[i][j] > valMax:\n",
    "                valMax=y_pred_val_nn[i][j];\n",
    "                posMax=j;\n",
    "        y_pred_val_nn_etiquetas.append(f(posMax));   \n",
    "        \n",
    "y_pred_train_nn_etiquetas=np.asarray(y_pred_train_nn_etiquetas);\n",
    "y_pred_test_nn_etiquetas=np.asarray(y_pred_test_nn_etiquetas);\n",
    "y_pred_val_nn_etiquetas=np.asarray(y_pred_val_nn_etiquetas);"
   ]
  },
  {
   "cell_type": "code",
   "execution_count": 249,
   "metadata": {},
   "outputs": [
    {
     "name": "stdout",
     "output_type": "stream",
     "text": [
      "Train F1-Score:  0.6703480022537507\n",
      "Val F1-Score:  0.5366631251606007\n",
      "Test F1-Score:  0.5617551343264141\n"
     ]
    }
   ],
   "source": [
    "print(\"Train F1-Score: \",f1_score(y_train,y_pred_train_nn_etiquetas, average='weighted',  labels=np.unique(y_pred_train_nn_etiquetas)))\n",
    "print(\"Val F1-Score: \",f1_score(y_val,y_pred_val_nn_etiquetas, average='weighted', labels=np.unique(y_pred_val_nn_etiquetas)))\n",
    "print(\"Test F1-Score: \", f1_score(y_test, y_pred_test_nn_etiquetas, average='weighted',labels=np.unique(y_pred_test_nn_etiquetas)))"
   ]
  },
  {
   "cell_type": "markdown",
   "metadata": {},
   "source": [
    "Al calcular el valor de F1-score para los distintos conjuntos, notamos que son valores muy parecidos a los de los métodos anteriores que consideran ensablaje por Bagging, AdaBoost y RandomForest. Por lo que la solución entregada no aporta una mejora significativa. Como se esperaba según lo comentado al inicio.  "
   ]
  },
  {
   "cell_type": "markdown",
   "metadata": {},
   "source": [
    "#### i) Compare y analice las distintas maneras con las que se resolvió el problema definido en b), por ejemplo incluya las decisiones que conlleva y los resultados que reflejan."
   ]
  },
  {
   "cell_type": "markdown",
   "metadata": {},
   "source": [
    "El problema se abordó como uno de clasificación, y se resolvió mediante el uso de árboles de clasicficación (regularizados y no regularizados) y distintos métodos de ensamblaje como Bagging, AdaBoost y RandomForest; además de la red nueronal implementada en la parte inmediatamente anterior.  \n",
    "\n",
    "Para ver la eficacia o que tan bien se resolvió el problema, nos fijaremos en la medida de la F1-score en el conjunto de validación.  \n",
    "\n",
    "El modelo que obtuvo mejor F1-score en el conjunto de validación fue AdaBoost con un árbol no regularizado (alrededor de 0,58) y el segundo mejor modelo fue la red neuronal con un F1-score de 0,5366.  \n",
    "\n",
    "El primer resultado parece curioso puesto que se observa un buen rendimiento pese al overfitting, aún así, no es lo suficientemente bueno como para señalar que es una solución satisfactoria al problema.  \n",
    "\n",
    "\n"
   ]
  },
  {
   "cell_type": "markdown",
   "metadata": {},
   "source": [
    "#### j) Defina otra forma de combinar los valores que entregan los ensamblados al hacer predicciones y compare con lo que se hace actualmente, por ejemplo *Bagging* realiza el voto de la mayoría para clasificación y promedio para regresión, *AdaBoost* realiza una combinación ponderada de cada clasificador dependiendo de su *habilidad* (desempeño para clasificar el conjunto de entrenamiento)."
   ]
  },
  {
   "cell_type": "markdown",
   "metadata": {},
   "source": [
    "Basado en la idea de algoritmos genéticos, combinaremos predicciones tomando al mejor predictor, al peor, y predictores al azar."
   ]
  },
  {
   "cell_type": "code",
   "execution_count": 273,
   "metadata": {},
   "outputs": [],
   "source": [
    "from sklearn.tree import DecisionTreeClassifier as Tree"
   ]
  },
  {
   "cell_type": "markdown",
   "metadata": {},
   "source": [
    "Definimos una lista de 12 modelos distintos.  "
   ]
  },
  {
   "cell_type": "code",
   "execution_count": 276,
   "metadata": {},
   "outputs": [
    {
     "name": "stdout",
     "output_type": "stream",
     "text": [
      "12\n"
     ]
    }
   ],
   "source": [
    "lista_modelos=[Tree(), Tree(max_depth=1),  Tree(max_depth=2), Tree(max_depth=4), Tree(max_depth=8), Tree(max_depth=16), Tree(min_samples_leaf=3),  Tree(min_samples_leaf=5), Tree(min_samples_leaf=10),  Tree(max_depth=4, min_samples_leaf=10), Tree(max_depth=4, min_samples_leaf=5), Tree(max_depth=8, min_samples_leaf=10) ]\n",
    "print(len(lista_modelos))"
   ]
  },
  {
   "cell_type": "markdown",
   "metadata": {},
   "source": [
    "Se define una función que entrega los índices de la lista de los modelos con peor y mejor rendimiento en el conjunto de validación, basado en la f1-score."
   ]
  },
  {
   "cell_type": "code",
   "execution_count": 277,
   "metadata": {},
   "outputs": [],
   "source": [
    "def mejor_peor_rendimiento(lista_de_modelos):\n",
    "    i=0;\n",
    "    i_max=0;\n",
    "    i_min=0;\n",
    "    score_actual=0;\n",
    "    score_min=1;\n",
    "    score_max=0;\n",
    "\n",
    "    for model in lista_de_modelos:\n",
    "        model.fit(X_train,y_train);\n",
    "        score_actual=f1_score(y_val,model.predict(X_val), average='weighted', labels=np.unique(model.predict(X_val)));\n",
    "        if score_actual>score_max:\n",
    "            score_max=score_actual;\n",
    "            i_max=i;\n",
    "        if score_actual<score_min:\n",
    "            score_min=score_actual;\n",
    "            i_min=i;\n",
    "        i=i+1;\n",
    "    return (i_min,i_max)"
   ]
  },
  {
   "cell_type": "code",
   "execution_count": 283,
   "metadata": {},
   "outputs": [],
   "source": [
    "from random import randint"
   ]
  },
  {
   "cell_type": "code",
   "execution_count": 295,
   "metadata": {},
   "outputs": [],
   "source": [
    "def lista_de3_predicciones(lista_de_modelos):\n",
    "    indice1,indice2=mejor_peor_rendimiento(lista_de_modelos);\n",
    "    indice3=randint(0, 11); #largo seteado para esta lista en particular\n",
    "    \n",
    "    model=lista_de_modelos[indice1];\n",
    "    model.fit(X_train,y_train);\n",
    "    \n",
    "    prediccion1_train=model.predict(X_train);\n",
    "    prediccion1_test=model.predict(X_test);\n",
    "    prediccion1_val=model.predict(X_val);\n",
    "    \n",
    "    model=lista_de_modelos[indice2];\n",
    "    model.fit(X_train,y_train);\n",
    "\n",
    "    prediccion2_train=model.predict(X_train);\n",
    "    prediccion2_test=model.predict(X_test);\n",
    "    prediccion2_val=model.predict(X_val);\n",
    "    \n",
    "    model=lista_de_modelos[indice3];\n",
    "    model.fit(X_train,y_train);\n",
    "    \n",
    "    prediccion3_train=model.predict(X_train);\n",
    "    prediccion3_test=model.predict(X_test);\n",
    "    prediccion3_val=model.predict(X_val);\n",
    "    \n",
    "    lista=[];\n",
    "    \n",
    "    lista.append(prediccion1_train);\n",
    "    lista.append(prediccion2_train);\n",
    "    lista.append(prediccion3_train);\n",
    "    lista.append(prediccion1_test);\n",
    "    lista.append(prediccion2_test);\n",
    "    lista.append(prediccion3_test);    \n",
    "    lista.append(prediccion1_val);\n",
    "    lista.append(prediccion2_val);\n",
    "    lista.append(prediccion3_val);\n",
    "\n",
    "    return (lista)"
   ]
  },
  {
   "cell_type": "code",
   "execution_count": 288,
   "metadata": {},
   "outputs": [],
   "source": [
    "def combine_predictions(predictions):\n",
    "    n=len(predictions);\n",
    "    a=len(predictions[0]);\n",
    "    listaSalida=[];\n",
    "    for i in range(a):\n",
    "        etiqueta=0;\n",
    "        for j in range(n):\n",
    "            etiqueta=etiqueta+predictions[j][i];\n",
    "        listaSalida.append(int(etiqueta/n));\n",
    "    listaSalida=np.asarray(listaSalida)\n",
    "    return listaSalida;"
   ]
  },
  {
   "cell_type": "code",
   "execution_count": 296,
   "metadata": {},
   "outputs": [],
   "source": [
    "Lista_de_predicciones=lista_de3_predicciones(lista_modelos);"
   ]
  },
  {
   "cell_type": "code",
   "execution_count": 299,
   "metadata": {},
   "outputs": [],
   "source": [
    "predicciones_train=combine_predictions(Lista_de_predicciones[0:3]);"
   ]
  },
  {
   "cell_type": "code",
   "execution_count": 302,
   "metadata": {},
   "outputs": [],
   "source": [
    "predicciones_test=combine_predictions(Lista_de_predicciones[3:6]);"
   ]
  },
  {
   "cell_type": "code",
   "execution_count": 303,
   "metadata": {},
   "outputs": [],
   "source": [
    "predicciones_val=combine_predictions(Lista_de_predicciones[6:9]);"
   ]
  },
  {
   "cell_type": "code",
   "execution_count": 304,
   "metadata": {},
   "outputs": [
    {
     "name": "stdout",
     "output_type": "stream",
     "text": [
      "Train F1-Score:  0.5512423652040266\n",
      "Val F1-Score:  0.4555335278081736\n",
      "Test F1-Score:  0.4857090475394511\n"
     ]
    }
   ],
   "source": [
    "print(\"Train F1-Score: \",f1_score(y_train,predicciones_train, average='weighted',  labels=np.unique(predicciones_train)))\n",
    "print(\"Val F1-Score: \",f1_score(y_val,predicciones_val, average='weighted', labels=np.unique(predicciones_val)))\n",
    "print(\"Test F1-Score: \", f1_score(y_test, predicciones_test, average='weighted',labels=np.unique(predicciones_test)))"
   ]
  },
  {
   "cell_type": "markdown",
   "metadata": {},
   "source": [
    "La nueva forma de ensamblar consiste en utilizar un promedio entre el mejor modelo, el peor y uno al azar de una cantidad dada. Entregó una valor de F1-score más pequeño que los métodos anteriores, por lo que nuestra forma de ensamblar no es mejor que las ya existentes, algo que se podía preveer."
   ]
  },
  {
   "cell_type": "markdown",
   "metadata": {},
   "source": [
    "#### k) Utilice la técnica de ensamblado para seleccionar características, para ésto defina un criterio para estimar la importancia de los distintos atributos en el ensamblado, impleméntelo sobre alguno de los ensambladores entrenados para resolver el problema definido en b). Realice un *ranking* de importancia de atributos y seleccione las $k$ características más relevantes."
   ]
  },
  {
   "cell_type": "markdown",
   "metadata": {},
   "source": [
    "Utilizaremos la técnica de ensamblado Random Forest."
   ]
  },
  {
   "cell_type": "code",
   "execution_count": 306,
   "metadata": {},
   "outputs": [
    {
     "name": "stdout",
     "output_type": "stream",
     "text": [
      "Train F1-score:  0.9997433800363095\n",
      "Val F1-score:  0.6430568753724656\n",
      "Test F1-score:  0.6328494096222517\n"
     ]
    }
   ],
   "source": [
    "model = RandomForestClassifier(n_estimators=25, n_jobs=-1, warm_start=True, oob_score=True)\n",
    "model.fit(X_train,y_train)\n",
    "y_pred = model.predict(X_train)\n",
    "print(\"Train F1-score: \",f1_score(y_train,model.predict(X_train), average='weighted',  labels=np.unique(model.predict(X_train))))\n",
    "print(\"Val F1-score: \",f1_score(y_val,model.predict(X_val), average='weighted', labels=np.unique(model.predict(X_val))))\n",
    "print(\"Test F1-score: \", f1_score(y_test, model.predict(X_test), average='weighted',labels=np.unique(model.predict(X_test))))"
   ]
  },
  {
   "cell_type": "markdown",
   "metadata": {},
   "source": [
    "A continuación, construimos el ranking de atributos basado en el ejemplo de sklearn. Podemos usar RandomForest, sumando la catitdad de error reducido que se obtiene cuando cada variable es usada para implementar el split. Además, RandomForest, al aleatorizar la selección de los atributos, el puntaje de cada variable tiende menos a overfitting."
   ]
  },
  {
   "cell_type": "code",
   "execution_count": 307,
   "metadata": {},
   "outputs": [
    {
     "name": "stdout",
     "output_type": "stream",
     "text": [
      "Feature ranking:\n",
      "1. feature 10 (0.137475)\n",
      "2. feature 1 (0.102629)\n",
      "3. feature 6 (0.090196)\n",
      "4. feature 5 (0.088035)\n",
      "5. feature 7 (0.085981)\n",
      "6. feature 9 (0.084889)\n",
      "7. feature 2 (0.081701)\n",
      "8. feature 8 (0.081412)\n",
      "9. feature 4 (0.080767)\n",
      "10. feature 0 (0.080601)\n",
      "11. feature 3 (0.078931)\n",
      "12. feature 11 (0.007383)\n"
     ]
    },
    {
     "data": {
      "image/png": "[encoded data removed]",
      "text/plain": [
       "<Figure size 432x288 with 1 Axes>"
      ]
     },
     "metadata": {},
     "output_type": "display_data"
    }
   ],
   "source": [
    "import matplotlib.pyplot as plt\n",
    "\n",
    "from sklearn.datasets import make_classification\n",
    "from sklearn.ensemble import ExtraTreesClassifier\n",
    "\n",
    "forest = ExtraTreesClassifier(n_estimators=25,\n",
    "                              random_state=0)\n",
    "\n",
    "forest.fit(X_train, y_train)\n",
    "importances = forest.feature_importances_\n",
    "std = np.std([tree.feature_importances_ for tree in forest.estimators_],\n",
    "             axis=0)\n",
    "indices = np.argsort(importances)[::-1]\n",
    "\n",
    "print(\"Feature ranking:\")\n",
    "\n",
    "for f in range(X.shape[1]):\n",
    "    print(\"%d. feature %d (%f)\" % (f + 1, indices[f], importances[indices[f]]))\n",
    "\n",
    "plt.figure()\n",
    "plt.title(\"Feature importances\")\n",
    "plt.bar(range(X.shape[1]), importances[indices],\n",
    "       color=\"r\", yerr=std[indices], align=\"center\")\n",
    "plt.xticks(range(X.shape[1]), indices)\n",
    "plt.xlim([-1, X.shape[1]])\n",
    "plt.show()"
   ]
  },
  {
   "cell_type": "markdown",
   "metadata": {},
   "source": [
    "Donde los números corresponden a los atributos según:  \n",
    "   0 - fixed acidity  \n",
    "   1 - volatile acidity  \n",
    "   2 - citric acid  \n",
    "   3 - residual sugar  \n",
    "   4 - chlorides  \n",
    "   5 - free sulfur dioxide  \n",
    "   6 - total sulfur dioxide  \n",
    "   7 - density  \n",
    "   8 - pH  \n",
    "   9 - sulphates  \n",
    "   10 - alcohol  \n",
    "   11 - tipo  \n",
    "   \n",
    "Así, el atributo más relevante es la cantidad de alcohol y el menos relevante es el tipo de vino.  \n",
    "\n",
    "Finalmente las 3 características más relevantes son: el alcohol, la volatilidad de acidez y el dióxido de sulfuro total.  \n"
   ]
  },
  {
   "cell_type": "markdown",
   "metadata": {},
   "source": [
    "#### l) Entrene la máquina de aprendizaje definida en h) sobre las $k$ carecterísticas derivadas del punto anterior ¿Mejora los resultados sobre ésta máquina de aprendizaje?"
   ]
  },
  {
   "cell_type": "markdown",
   "metadata": {},
   "source": [
    "Creamos los nuevos conjuntos con las 3 caracteristicas más relevantes."
   ]
  },
  {
   "cell_type": "code",
   "execution_count": 308,
   "metadata": {},
   "outputs": [],
   "source": [
    "df_red = pd.read_csv(\"winequality-red.csv\",sep=\";\")\n",
    "df_white = pd.read_csv(\"winequality-white.csv\",sep=\";\")"
   ]
  },
  {
   "cell_type": "code",
   "execution_count": 309,
   "metadata": {},
   "outputs": [],
   "source": [
    "df = pd.concat([df_red,df_white], axis=0)"
   ]
  },
  {
   "cell_type": "code",
   "execution_count": 310,
   "metadata": {},
   "outputs": [
    {
     "name": "stdout",
     "output_type": "stream",
     "text": [
      "<class 'pandas.core.frame.DataFrame'>\n",
      "Int64Index: 6497 entries, 0 to 4897\n",
      "Data columns (total 12 columns):\n",
      "fixed acidity           6497 non-null float64\n",
      "volatile acidity        6497 non-null float64\n",
      "citric acid             6497 non-null float64\n",
      "residual sugar          6497 non-null float64\n",
      "chlorides               6497 non-null float64\n",
      "free sulfur dioxide     6497 non-null float64\n",
      "total sulfur dioxide    6497 non-null float64\n",
      "density                 6497 non-null float64\n",
      "pH                      6497 non-null float64\n",
      "sulphates               6497 non-null float64\n",
      "alcohol                 6497 non-null float64\n",
      "quality                 6497 non-null int64\n",
      "dtypes: float64(11), int64(1)\n",
      "memory usage: 659.9 KB\n"
     ]
    }
   ],
   "source": [
    "df.info()"
   ]
  },
  {
   "cell_type": "code",
   "execution_count": 311,
   "metadata": {},
   "outputs": [],
   "source": [
    "y = df[\"quality\"].values"
   ]
  },
  {
   "cell_type": "code",
   "execution_count": 312,
   "metadata": {},
   "outputs": [],
   "source": [
    "df.drop(\"fixed acidity\",axis=1,inplace=True)\n",
    "df.drop(\"citric acid\",axis=1,inplace=True)\n",
    "df.drop(\"residual sugar\",axis=1,inplace=True)\n",
    "df.drop(\"chlorides\",axis=1,inplace=True)\n",
    "df.drop(\"free sulfur dioxide\",axis=1,inplace=True)\n",
    "df.drop(\"density\",axis=1,inplace=True)\n",
    "df.drop(\"pH\",axis=1,inplace=True)\n",
    "df.drop(\"sulphates\",axis=1,inplace=True)\n",
    "df.drop(\"quality\",axis=1,inplace=True)"
   ]
  },
  {
   "cell_type": "code",
   "execution_count": 313,
   "metadata": {},
   "outputs": [
    {
     "name": "stdout",
     "output_type": "stream",
     "text": [
      "<class 'pandas.core.frame.DataFrame'>\n",
      "Int64Index: 6497 entries, 0 to 4897\n",
      "Data columns (total 3 columns):\n",
      "volatile acidity        6497 non-null float64\n",
      "total sulfur dioxide    6497 non-null float64\n",
      "alcohol                 6497 non-null float64\n",
      "dtypes: float64(3)\n",
      "memory usage: 203.0 KB\n"
     ]
    }
   ],
   "source": [
    "df.info()"
   ]
  },
  {
   "cell_type": "code",
   "execution_count": 314,
   "metadata": {},
   "outputs": [],
   "source": [
    "X = df.values"
   ]
  },
  {
   "cell_type": "code",
   "execution_count": 315,
   "metadata": {},
   "outputs": [],
   "source": [
    "from sklearn.model_selection import train_test_split\n",
    "X_train, X_test, y_train, y_test = train_test_split(X, y, test_size=0.2, random_state=1)\n",
    "X_train, X_val, y_train, y_val = train_test_split(X_train, y_train, test_size=0.25, random_state=1)"
   ]
  },
  {
   "cell_type": "code",
   "execution_count": 316,
   "metadata": {},
   "outputs": [
    {
     "name": "stdout",
     "output_type": "stream",
     "text": [
      "Conjunto de entrenamiento:  (3897, 3)\n",
      "Conjunto de pruebas:  (1300, 3)\n",
      "Conjunto de validacion:  (1300, 3)\n"
     ]
    }
   ],
   "source": [
    "print(\"Conjunto de entrenamiento: \", X_train.shape)\n",
    "print(\"Conjunto de pruebas: \", X_test.shape)\n",
    "print(\"Conjunto de validacion: \", X_val.shape)"
   ]
  },
  {
   "cell_type": "code",
   "execution_count": 317,
   "metadata": {},
   "outputs": [],
   "source": [
    "Y_train_codif=[];\n",
    "Y_test_codif=[];\n",
    "Y_val_codif=[];\n",
    "for i in range(3897):\n",
    "    Y_train_codif.append(int(int(y_train[i])-3));\n",
    "    if i<1300:\n",
    "        Y_test_codif.append(int(int(y_test[i])-3));\n",
    "        Y_val_codif.append(int(int(y_val[i])-3));\n",
    "Y_train_codif=np.asarray(Y_train_codif);\n",
    "Y_test_codif=np.asarray(Y_test_codif);\n",
    "Y_val_codif=np.asarray(Y_val_codif);"
   ]
  },
  {
   "cell_type": "code",
   "execution_count": 318,
   "metadata": {},
   "outputs": [],
   "source": [
    "import keras\n",
    "y_onehot_train = keras.utils.to_categorical(Y_train_codif,num_classes=7)\n",
    "y_onehot_test = keras.utils.to_categorical(Y_test_codif,num_classes=7)\n",
    "y_onehot_val = keras.utils.to_categorical(Y_val_codif,num_classes=7)"
   ]
  },
  {
   "cell_type": "code",
   "execution_count": 319,
   "metadata": {},
   "outputs": [],
   "source": [
    "from sklearn.preprocessing import StandardScaler\n",
    "std = StandardScaler()\n",
    "std.fit(X_train)\n",
    "X_train_scaled = std.transform(X_train)\n",
    "X_test_scaled = std.transform(X_test)\n",
    "X_val_scaled = std.transform(X_val)"
   ]
  },
  {
   "cell_type": "code",
   "execution_count": 320,
   "metadata": {},
   "outputs": [
    {
     "name": "stdout",
     "output_type": "stream",
     "text": [
      "Epoch 1/40\n",
      "3897/3897 [==============================] - 1s 148us/step - loss: 1.4620\n",
      "Epoch 2/40\n",
      "3897/3897 [==============================] - 0s 36us/step - loss: 1.1470\n",
      "Epoch 3/40\n",
      "3897/3897 [==============================] - 0s 43us/step - loss: 1.1169\n",
      "Epoch 4/40\n",
      "3897/3897 [==============================] - 0s 37us/step - loss: 1.1101\n",
      "Epoch 5/40\n",
      "3897/3897 [==============================] - 0s 36us/step - loss: 1.0973\n",
      "Epoch 6/40\n",
      "3897/3897 [==============================] - 0s 36us/step - loss: 1.0906\n",
      "Epoch 7/40\n",
      "3897/3897 [==============================] - 0s 52us/step - loss: 1.0878\n",
      "Epoch 8/40\n",
      "3897/3897 [==============================] - 0s 32us/step - loss: 1.0835\n",
      "Epoch 9/40\n",
      "3897/3897 [==============================] - 0s 32us/step - loss: 1.0796\n",
      "Epoch 10/40\n",
      "3897/3897 [==============================] - 0s 40us/step - loss: 1.0774\n",
      "Epoch 11/40\n",
      "3897/3897 [==============================] - 0s 36us/step - loss: 1.0752\n",
      "Epoch 12/40\n",
      "3897/3897 [==============================] - 0s 36us/step - loss: 1.0712\n",
      "Epoch 13/40\n",
      "3897/3897 [==============================] - 0s 48us/step - loss: 1.0703\n",
      "Epoch 14/40\n",
      "3897/3897 [==============================] - 0s 52us/step - loss: 1.0677\n",
      "Epoch 15/40\n",
      "3897/3897 [==============================] - 0s 44us/step - loss: 1.0667\n",
      "Epoch 16/40\n",
      "3897/3897 [==============================] - 0s 30us/step - loss: 1.0658\n",
      "Epoch 17/40\n",
      "3897/3897 [==============================] - 0s 32us/step - loss: 1.0671\n",
      "Epoch 18/40\n",
      "3897/3897 [==============================] - 0s 40us/step - loss: 1.0658\n",
      "Epoch 19/40\n",
      "3897/3897 [==============================] - 0s 32us/step - loss: 1.0596\n",
      "Epoch 20/40\n",
      "3897/3897 [==============================] - 0s 36us/step - loss: 1.0596\n",
      "Epoch 21/40\n",
      "3897/3897 [==============================] - 0s 36us/step - loss: 1.0602\n",
      "Epoch 22/40\n",
      "3897/3897 [==============================] - 0s 32us/step - loss: 1.0598\n",
      "Epoch 23/40\n",
      "3897/3897 [==============================] - 0s 32us/step - loss: 1.0618\n",
      "Epoch 24/40\n",
      "3897/3897 [==============================] - 0s 48us/step - loss: 1.0579: 0s - loss: 1.02\n",
      "Epoch 25/40\n",
      "3897/3897 [==============================] - 0s 36us/step - loss: 1.0574\n",
      "Epoch 26/40\n",
      "3897/3897 [==============================] - 0s 64us/step - loss: 1.0540\n",
      "Epoch 27/40\n",
      "3897/3897 [==============================] - 0s 40us/step - loss: 1.0516\n",
      "Epoch 28/40\n",
      "3897/3897 [==============================] - 0s 36us/step - loss: 1.0540\n",
      "Epoch 29/40\n",
      "3897/3897 [==============================] - 0s 56us/step - loss: 1.0511\n",
      "Epoch 30/40\n",
      "3897/3897 [==============================] - 0s 44us/step - loss: 1.0502\n",
      "Epoch 31/40\n",
      "3897/3897 [==============================] - 0s 44us/step - loss: 1.0520\n",
      "Epoch 32/40\n",
      "3897/3897 [==============================] - 0s 40us/step - loss: 1.0498\n",
      "Epoch 33/40\n",
      "3897/3897 [==============================] - 0s 44us/step - loss: 1.0458\n",
      "Epoch 34/40\n",
      "3897/3897 [==============================] - 0s 44us/step - loss: 1.0465\n",
      "Epoch 35/40\n",
      "3897/3897 [==============================] - 0s 47us/step - loss: 1.0443\n",
      "Epoch 36/40\n",
      "3897/3897 [==============================] - 0s 43us/step - loss: 1.0453\n",
      "Epoch 37/40\n",
      "3897/3897 [==============================] - 0s 28us/step - loss: 1.0439\n",
      "Epoch 38/40\n",
      "3897/3897 [==============================] - 0s 36us/step - loss: 1.0446\n",
      "Epoch 39/40\n",
      "3897/3897 [==============================] - 0s 44us/step - loss: 1.0437\n",
      "Epoch 40/40\n",
      "3897/3897 [==============================] - 0s 44us/step - loss: 1.0473\n",
      "--- 7.593707323074341 seconds ---\n"
     ]
    }
   ],
   "source": [
    "import time\n",
    "start_time =time.time()\n",
    "    \n",
    "from keras.models import Sequential\n",
    "from keras.layers import Dense\n",
    "from keras.optimizers import Adam\n",
    "model = Sequential()\n",
    "model.add(Dense(256, input_dim=X_train.shape[1], activation=\"relu\"))\n",
    "model.add(Dense(128, activation=\"relu\"))\n",
    "model.add(Dense(y_onehot_train.shape[1], activation=\"softmax\"))\n",
    "model.compile(optimizer=\"Adam\", loss=\"categorical_crossentropy\")\n",
    "model.fit(X_train_scaled, y_onehot_train, epochs=40, batch_size=128, verbose=1)\n",
    "\n",
    "print(\"--- %s seconds ---\" % (time.time() - start_time))"
   ]
  },
  {
   "cell_type": "code",
   "execution_count": 321,
   "metadata": {},
   "outputs": [],
   "source": [
    "y_pred_train_nn=model.predict(X_train_scaled);\n",
    "y_pred_test_nn=model.predict(X_test_scaled);\n",
    "y_pred_val_nn=model.predict(X_val_scaled);"
   ]
  },
  {
   "cell_type": "code",
   "execution_count": 322,
   "metadata": {},
   "outputs": [],
   "source": [
    "def f(x):\n",
    "    if x==0:\n",
    "        return 3;\n",
    "    elif x==1:\n",
    "        return 4;\n",
    "    elif x==2:\n",
    "        return 5;\n",
    "    elif x==3:\n",
    "        return 6;\n",
    "    elif x==4:\n",
    "        return 7;\n",
    "    elif x==5:\n",
    "        return 8;\n",
    "    elif x==6:\n",
    "        return 9;\n",
    "\n",
    "\n",
    "y_pred_train_nn_etiquetas=[];\n",
    "y_pred_test_nn_etiquetas=[];\n",
    "y_pred_val_nn_etiquetas=[];\n",
    "for i in range(3897):\n",
    "    posMax=6;\n",
    "    valMax=y_pred_train_nn[i][6]\n",
    "    for j in range(6):\n",
    "        if y_pred_train_nn[i][j] > valMax:\n",
    "            valMax=y_pred_train_nn[i][j];\n",
    "            posMax=j;\n",
    "    y_pred_train_nn_etiquetas.append(f(posMax));\n",
    "    if i < 1300:\n",
    "        posMax=6;\n",
    "        valMax=y_pred_test_nn[i][6]\n",
    "        for j in range(6):\n",
    "            if y_pred_test_nn[i][j] > valMax:\n",
    "                valMax=y_pred_test_nn[i][j];\n",
    "                posMax=j;\n",
    "        y_pred_test_nn_etiquetas.append(f(posMax)); \n",
    "        \n",
    "        posMax=6;\n",
    "        valMax=y_pred_val_nn[i][6]\n",
    "        for j in range(6):\n",
    "            if y_pred_val_nn[i][j] > valMax:\n",
    "                valMax=y_pred_val_nn[i][j];\n",
    "                posMax=j;\n",
    "        y_pred_val_nn_etiquetas.append(f(posMax));   \n",
    "        \n",
    "y_pred_train_nn_etiquetas=np.asarray(y_pred_train_nn_etiquetas);\n",
    "y_pred_test_nn_etiquetas=np.asarray(y_pred_test_nn_etiquetas);\n",
    "y_pred_val_nn_etiquetas=np.asarray(y_pred_val_nn_etiquetas);"
   ]
  },
  {
   "cell_type": "code",
   "execution_count": 323,
   "metadata": {},
   "outputs": [
    {
     "name": "stdout",
     "output_type": "stream",
     "text": [
      "Train F1-Score:  0.5454346709650523\n",
      "Val F1-Score:  0.5098393672212922\n",
      "Test F1-Score:  0.5439024652882032\n"
     ]
    }
   ],
   "source": [
    "print(\"Train F1-Score: \",f1_score(y_train,y_pred_train_nn_etiquetas, average='weighted',  labels=np.unique(y_pred_train_nn_etiquetas)))\n",
    "print(\"Val F1-Score: \",f1_score(y_val,y_pred_val_nn_etiquetas, average='weighted', labels=np.unique(y_pred_val_nn_etiquetas)))\n",
    "print(\"Test F1-Score: \", f1_score(y_test, y_pred_test_nn_etiquetas, average='weighted',labels=np.unique(y_pred_test_nn_etiquetas)))"
   ]
  },
  {
   "cell_type": "markdown",
   "metadata": {},
   "source": [
    "Notamos una baja en los valores de la metrica F1-score, esto se debe a que el problema no es ni un problema de clasificación ni de regresión en sí, además que las caracteristicas que se consideran son muy pocas para estimar si un vino es bueno o malo, más aún cuantificarlo indicando en que nivel de calidad se encuentran."
   ]
  },
  {
   "cell_type": "markdown",
   "metadata": {},
   "source": [
    "<a id=\"refs\"></a>\n",
    "## Referencias\n",
    "[1] http://archive.ics.uci.edu/ml/datasets/Wine+Quality  \n",
    "[2] http://scikit-learn.org/stable/modules/generated/sklearn.metrics.f1_score.html  \n",
    "[3] http://deeplearning.net/software/theano/tutorial/conv_arithmetic.html, http://colah.github.io/posts/2014-07-Understanding-Convolutions/    \n",
    "[4] https://www.vision.ee.ethz.ch/datasets_extra/food-101/  \n",
    "[5] Box, G. E. P., Jenkins, G. M. and Reinsel, G. C. (1976), *Time Series Analysis, Forecasting and Control*. Third Edition. Holden-Day. Series G.  "
   ]
  }
 ],
 "metadata": {
  "kernelspec": {
   "display_name": "Python 3",
   "language": "python",
   "name": "python3"
  },
  "language_info": {
   "codemirror_mode": {
    "name": "ipython",
    "version": 3
   },
   "file_extension": ".py",
   "mimetype": "text/x-python",
   "name": "python",
   "nbconvert_exporter": "python",
   "pygments_lexer": "ipython3",
   "version": "3.6.5"
  }
 },
 "nbformat": 4,
 "nbformat_minor": 2
}
